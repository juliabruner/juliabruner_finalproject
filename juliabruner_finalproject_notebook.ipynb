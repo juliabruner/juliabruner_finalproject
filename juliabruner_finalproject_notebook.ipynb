{
 "cells": [
  {
   "cell_type": "markdown",
   "id": "ce4985d9-d45d-46e8-8a18-f86fa42c59a6",
   "metadata": {},
   "source": [
    "## ZOO4926 Graduate Project\n",
    "Julia Bruner"
   ]
  },
  {
   "cell_type": "markdown",
   "id": "f0528170-7409-4379-84ba-f11bd50d60b8",
   "metadata": {},
   "source": [
    "### Introduction\n",
    "\n",
    "Biological Setting: Hospital Patient Experience Surveys\n",
    "\n",
    "Last summer, my sisiter did an internship at a hospital. One of her main jobs was to read patient experience surveys and document major themes in complaints. She spent a large part of her time categorizing reviews as positive or negative, and mapping the sentiments to different roles in the hospital (ie. doctors, nurses, cafeteria, etc.). Hospitals could save time and money by using natural language processing models to perform these tasks instead."
   ]
  },
  {
   "cell_type": "markdown",
   "id": "eaf4daab-603f-4c04-94b3-c3fb367f3e13",
   "metadata": {},
   "source": [
    "### Overview\n",
    "\n",
    "In this notebook, I import and clean the data, perform preprocessing and tokenization, and apply language models. More specifically, I use a transformer to apply sentiment analysis and categorize texts as positive or negative. I also use an LSTM for text generation tasks and use embedding to map relationships between different words. \n",
    "\n",
    "The text corpus I used to demonstrate this process includes Taylor Swift lyrics from her first nine albums. It can be found on kaggle at this link: https://www.kaggle.com/datasets/thespacefreak/taylor-swift-song-lyrics-all-albums"
   ]
  },
  {
   "cell_type": "code",
   "execution_count": 1,
   "id": "c538a6f1-0c5d-432e-8666-26b85985685a",
   "metadata": {},
   "outputs": [],
   "source": [
    "# Import the necessary packages\n",
    "import numpy as np\n",
    "import pandas as pd\n",
    "import os\n",
    "import random\n",
    "import matplotlib.pyplot as plt\n",
    "import re\n",
    "import sys \n",
    "from keras.models import Sequential\n",
    "from keras.layers import LSTM, Activation, Flatten, Dropout, Dense, Embedding, TimeDistributed, CuDNNLSTM\n",
    "from keras.callbacks import ModelCheckpoint\n",
    "from keras.utils import np_utils\n",
    "\n",
    "from keras.preprocessing.sequence import pad_sequences\n",
    "from keras.layers import Embedding, LSTM, Dense, Dropout\n",
    "from keras.preprocessing.text import Tokenizer\n",
    "from keras.callbacks import EarlyStopping\n",
    "from keras.models import Sequential\n",
    "import keras.utils as ku"
   ]
  },
  {
   "cell_type": "code",
   "execution_count": 227,
   "id": "a57b714f-5209-46c6-9b1d-71e997689d93",
   "metadata": {},
   "outputs": [],
   "source": [
    "# where the .csv files for each album are located\n",
    "directory = '/blue/zoo4926/juliabruner/Taylor_data'\n",
    "\n",
    "# getting all of the files in said directory.\n",
    "os.chdir(directory)\n",
    "files = os.listdir()\n",
    "\n",
    "# reading the first .csv file into a pandas dataframe, so we can concatenate to it in the following loop.\n",
    "taylor = pd.read_csv(os.path.join(directory, files[0]), encoding='utf8')\n",
    "\n",
    "# iterating over all .csv files in the directory, loading as a pandas dataframe, and appending vertically into a big dataframe.\n",
    "for i, file in enumerate(files):\n",
    "    if i != 0:\n",
    "        df = pd.read_csv(os.path.join(directory, file), encoding='utf8')\n",
    "        taylor = pd.concat([taylor, df], ignore_index=True, axis=0)"
   ]
  },
  {
   "cell_type": "markdown",
   "id": "3544323c-6b7a-4d5e-ad6b-e13d3d2770f8",
   "metadata": {},
   "source": [
    "# Import the data as a list of pandas dataframes"
   ]
  },
  {
   "cell_type": "code",
   "execution_count": 228,
   "id": "f855176d-412e-417b-884c-bc1571f57cd2",
   "metadata": {},
   "outputs": [
    {
     "data": {
      "text/plain": [
       "[       album_name                           track_title  track_n  \\\n",
       " 0    Taylor Swift                            Tim McGraw        1   \n",
       " 1    Taylor Swift                            Tim McGraw        1   \n",
       " 2    Taylor Swift                            Tim McGraw        1   \n",
       " 3    Taylor Swift                            Tim McGraw        1   \n",
       " 4    Taylor Swift                            Tim McGraw        1   \n",
       " ..            ...                                   ...      ...   \n",
       " 604  Taylor Swift  Teardrops on My Guitar (Pop Version)       15   \n",
       " 605  Taylor Swift  Teardrops on My Guitar (Pop Version)       15   \n",
       " 606  Taylor Swift  Teardrops on My Guitar (Pop Version)       15   \n",
       " 607  Taylor Swift  Teardrops on My Guitar (Pop Version)       15   \n",
       " 608  Taylor Swift  Teardrops on My Guitar (Pop Version)       15   \n",
       " \n",
       "                                                 lyric  line  \n",
       " 0                 He said the way my blue eyes shined     1  \n",
       " 1         Put those Georgia stars to shame that night     2  \n",
       " 2                              I said, \"That's a lie\"     3  \n",
       " 3                         Just a boy in a Chevy truck     4  \n",
       " 4                That had a tendency of gettin' stuck     5  \n",
       " ..                                                ...   ...  \n",
       " 604                               Don't know why I do    40  \n",
       " 605  He's the time taken up, but there's never enough    41  \n",
       " 606             And he's all that I need to fall into    42  \n",
       " 607                                  Drew looks at me    43  \n",
       " 608                    I fake a smile so he won't see    44  \n",
       " \n",
       " [609 rows x 5 columns],\n",
       "              album_name track_title  track_n  \\\n",
       " 0    Speak Now (Deluxe)        Mine        1   \n",
       " 1    Speak Now (Deluxe)        Mine        1   \n",
       " 2    Speak Now (Deluxe)        Mine        1   \n",
       " 3    Speak Now (Deluxe)        Mine        1   \n",
       " 4    Speak Now (Deluxe)        Mine        1   \n",
       " ..                  ...         ...      ...   \n",
       " 940  Speak Now (Deluxe)    Superman       17   \n",
       " 941  Speak Now (Deluxe)    Superman       17   \n",
       " 942  Speak Now (Deluxe)    Superman       17   \n",
       " 943  Speak Now (Deluxe)    Superman       17   \n",
       " 944  Speak Now (Deluxe)    Superman       17   \n",
       " \n",
       "                                                  lyric  line  \n",
       " 0    You were in college, working part-time, waitin...     1  \n",
       " 1              Left a small town and never looked back     2  \n",
       " 2          I was a flight risk, with a fear of falling     3  \n",
       " 3    Wondering why we bother with love, if it never...     4  \n",
       " 4                         I say, \"Can you believe it?\"     5  \n",
       " ..                                                 ...   ...  \n",
       " 940                   I'll be right here on the ground    51  \n",
       " 941                            When you come back down    52  \n",
       " 942                             La, la, la, la, la, la    53  \n",
       " 943                             La, la, la, la, la, la    54  \n",
       " 944                            When you come back down    55  \n",
       " \n",
       " [945 rows x 5 columns],\n",
       "                     album_name track_title  track_n  \\\n",
       " 0    folklore (deluxe version)       the 1        1   \n",
       " 1    folklore (deluxe version)       the 1        1   \n",
       " 2    folklore (deluxe version)       the 1        1   \n",
       " 3    folklore (deluxe version)       the 1        1   \n",
       " 4    folklore (deluxe version)       the 1        1   \n",
       " ..                         ...         ...      ...   \n",
       " 717  folklore (deluxe version)  ​the lakes       17   \n",
       " 718  folklore (deluxe version)  ​the lakes       17   \n",
       " 719  folklore (deluxe version)  ​the lakes       17   \n",
       " 720  folklore (deluxe version)  ​the lakes       17   \n",
       " 721  folklore (deluxe version)  ​the lakes       17   \n",
       " \n",
       "                                                  lyric  line  \n",
       " 0                 I'm doing good, I'm on some new shit     1  \n",
       " 1                    Been saying \"yes\" instead of \"no\"     2  \n",
       " 2    I thought I saw you at the bus stop, I didn't ...     3  \n",
       " 3                  I hit the ground running each night     4  \n",
       " 4                             I hit the Sunday matinée     5  \n",
       " ..                                                 ...   ...  \n",
       " 717  Take me to the Lakes where all the poets went ...    24  \n",
       " 718     I don't belong and, my beloved, neither do you    25  \n",
       " 719  Those Windermere peaks look like a perfect pla...    26  \n",
       " 720           I'm setting off, but not without my muse    27  \n",
       " 721                                No, not without you    28  \n",
       " \n",
       " [722 rows x 5 columns],\n",
       "          album_name          track_title  track_n  \\\n",
       " 0     1989 (Deluxe)  Welcome to New York        1   \n",
       " 1     1989 (Deluxe)  Welcome to New York        1   \n",
       " 2     1989 (Deluxe)  Welcome to New York        1   \n",
       " 3     1989 (Deluxe)  Welcome to New York        1   \n",
       " 4     1989 (Deluxe)  Welcome to New York        1   \n",
       " ...             ...                  ...      ...   \n",
       " 1001  1989 (Deluxe)        New Romantics       16   \n",
       " 1002  1989 (Deluxe)        New Romantics       16   \n",
       " 1003  1989 (Deluxe)        New Romantics       16   \n",
       " 1004  1989 (Deluxe)        New Romantics       16   \n",
       " 1005  1989 (Deluxe)        New Romantics       16   \n",
       " \n",
       "                                                   lyric  line  \n",
       " 0         Walking through a crowd, the village is aglow     1  \n",
       " 1           Kaleidoscope of loud heartbeats under coats     2  \n",
       " 2                  Everybody here wanted something more     3  \n",
       " 3          Searching for a sound we hadn't heard before     4  \n",
       " 4                                           And it said     5  \n",
       " ...                                                 ...   ...  \n",
       " 1001                  Heartbreak is the national anthem    65  \n",
       " 1002                                 We sing it proudly    66  \n",
       " 1003  We are too busy dancing to get knocked off our...    67  \n",
       " 1004                      Baby, we're the new romantics    68  \n",
       " 1005                   The best people in life are free    69  \n",
       " \n",
       " [1006 rows x 5 columns],\n",
       "      album_name       track_title  track_n  \\\n",
       " 0    reputation  ...Ready for It?        1   \n",
       " 1    reputation  ...Ready for It?        1   \n",
       " 2    reputation  ...Ready for It?        1   \n",
       " 3    reputation  ...Ready for It?        1   \n",
       " 4    reputation  ...Ready for It?        1   \n",
       " ..          ...               ...      ...   \n",
       " 983  reputation    New Year’s Day       15   \n",
       " 984  reputation    New Year’s Day       15   \n",
       " 985  reputation    New Year’s Day       15   \n",
       " 986  reputation    New Year’s Day       15   \n",
       " 987  reputation    New Year’s Day       15   \n",
       " \n",
       "                                                  lyric  line  \n",
       " 0       Knew he was a killer first time that I saw him     1  \n",
       " 1    Wondered how many girls he had loved and left ...     2  \n",
       " 2         But if he's a ghost, then I can be a phantom     3  \n",
       " 3                         Holdin' him for ransom, some     4  \n",
       " 4    Some boys are tryin' too hard, he don't try at...     5  \n",
       " ..                                                 ...   ...  \n",
       " 983  (Hold on to the memories, they will hold on to...    40  \n",
       " 984                Please don't ever become a stranger    41  \n",
       " 985  (Hold on to the memories, they will hold on to...    42  \n",
       " 986             Whose laugh I could recognize anywhere    43  \n",
       " 987                            (I will hold on to you)    44  \n",
       " \n",
       " [988 rows x 5 columns],\n",
       "                        album_name  \\\n",
       " 0     Fearless (Taylor’s Version)   \n",
       " 1     Fearless (Taylor’s Version)   \n",
       " 2     Fearless (Taylor’s Version)   \n",
       " 3     Fearless (Taylor’s Version)   \n",
       " 4     Fearless (Taylor’s Version)   \n",
       " ...                           ...   \n",
       " 1165  Fearless (Taylor’s Version)   \n",
       " 1166  Fearless (Taylor’s Version)   \n",
       " 1167  Fearless (Taylor’s Version)   \n",
       " 1168  Fearless (Taylor’s Version)   \n",
       " 1169  Fearless (Taylor’s Version)   \n",
       " \n",
       "                                            track_title  track_n  \\\n",
       " 0                          Fearless (Taylor’s Version)        1   \n",
       " 1                          Fearless (Taylor’s Version)        1   \n",
       " 2                          Fearless (Taylor’s Version)        1   \n",
       " 3                          Fearless (Taylor’s Version)        1   \n",
       " 4                          Fearless (Taylor’s Version)        1   \n",
       " ...                                                ...      ...   \n",
       " 1165  Bye Bye Baby (Taylor’s Version) [From the Vault]       26   \n",
       " 1166  Bye Bye Baby (Taylor’s Version) [From the Vault]       26   \n",
       " 1167  Bye Bye Baby (Taylor’s Version) [From the Vault]       26   \n",
       " 1168  Bye Bye Baby (Taylor’s Version) [From the Vault]       26   \n",
       " 1169  Bye Bye Baby (Taylor’s Version) [From the Vault]       26   \n",
       " \n",
       "                                                   lyric  line  \n",
       " 0                       There's something 'bout the way     1  \n",
       " 1                The street looks when it's just rained     2  \n",
       " 2     There's a glow off the pavement, you walk me t...     3  \n",
       " 3     And you know I wanna ask you to dance right there     4  \n",
       " 4                In the middle of the parking lot, yeah     5  \n",
       " ...                                                 ...   ...  \n",
       " 1165                    And all I have is your sympathy    41  \n",
       " 1166  'Cause you took me home but you just couldn't ...    42  \n",
       " 1167  Oh, you took me home, I thought you were gonna...    43  \n",
       " 1168                                       Bye bye baby    44  \n",
       " 1169                                       Bye bye baby    45  \n",
       " \n",
       " [1170 rows x 5 columns],\n",
       "                 album_name                        track_title  track_n  \\\n",
       " 0     Red (Deluxe Edition)                     State of Grace        1   \n",
       " 1     Red (Deluxe Edition)                     State of Grace        1   \n",
       " 2     Red (Deluxe Edition)                     State of Grace        1   \n",
       " 3     Red (Deluxe Edition)                     State of Grace        1   \n",
       " 4     Red (Deluxe Edition)                     State of Grace        1   \n",
       " ...                    ...                                ...      ...   \n",
       " 1067  Red (Deluxe Edition)  State of Grace (Acoustic Version)       22   \n",
       " 1068  Red (Deluxe Edition)  State of Grace (Acoustic Version)       22   \n",
       " 1069  Red (Deluxe Edition)  State of Grace (Acoustic Version)       22   \n",
       " 1070  Red (Deluxe Edition)  State of Grace (Acoustic Version)       22   \n",
       " 1071  Red (Deluxe Edition)  State of Grace (Acoustic Version)       22   \n",
       " \n",
       "                                             lyric  line  \n",
       " 0     I'm walking fast through the traffic lights     1  \n",
       " 1                     Busy streets and busy lives     2  \n",
       " 2                 And all we know is touch and go     3  \n",
       " 3            We are alone with our changing minds     4  \n",
       " 4         We fall in love 'til it hurts or bleeds     5  \n",
       " ...                                           ...   ...  \n",
       " 1067                   And I’ll never be the same    32  \n",
       " 1068                     This is a state of grace    33  \n",
       " 1069                   This is a worthwhile fight    34  \n",
       " 1070                      Love is a ruthless game    35  \n",
       " 1071            Unless you play it good and right    36  \n",
       " \n",
       " [1072 rows x 5 columns],\n",
       "                     album_name       track_title  track_n  \\\n",
       " 0    evermore (deluxe version)            willow        1   \n",
       " 1    evermore (deluxe version)            willow        1   \n",
       " 2    evermore (deluxe version)            willow        1   \n",
       " 3    evermore (deluxe version)            willow        1   \n",
       " 4    evermore (deluxe version)            willow        1   \n",
       " ..                         ...               ...      ...   \n",
       " 907  evermore (deluxe version)  ​it’s time to go       17   \n",
       " 908  evermore (deluxe version)  ​it’s time to go       17   \n",
       " 909  evermore (deluxe version)  ​it’s time to go       17   \n",
       " 910  evermore (deluxe version)  ​it’s time to go       17   \n",
       " 911  evermore (deluxe version)  ​it’s time to go       17   \n",
       " \n",
       "                                                  lyric  line  \n",
       " 0    I'm like the water when your ship rolled in th...     1  \n",
       " 1    Rough on the surface, but you cut through like...     2  \n",
       " 2                      And if it was an open-shut case     3  \n",
       " 3    I never would've known from that look on your ...     4  \n",
       " 4           Lost in your current like a priceless wine     5  \n",
       " ..                                                 ...   ...  \n",
       " 907             You know, you know, you know, you know    50  \n",
       " 908                               When it's time to go    51  \n",
       " 909                                     So then you go    52  \n",
       " 910                                        Then you go    53  \n",
       " 911                                        You just go    54  \n",
       " \n",
       " [912 rows x 5 columns],\n",
       "     album_name                track_title  track_n  \\\n",
       " 0        Lover  I Forgot That You Existed        1   \n",
       " 1        Lover  I Forgot That You Existed        1   \n",
       " 2        Lover  I Forgot That You Existed        1   \n",
       " 3        Lover  I Forgot That You Existed        1   \n",
       " 4        Lover  I Forgot That You Existed        1   \n",
       " ..         ...                        ...      ...   \n",
       " 929      Lover                   Daylight       18   \n",
       " 930      Lover                   Daylight       18   \n",
       " 931      Lover                   Daylight       18   \n",
       " 932      Lover                   Daylight       18   \n",
       " 933      Lover                   Daylight       18   \n",
       " \n",
       "                                                  lyric  line  \n",
       " 0                   How many days did I spend thinking     1  \n",
       " 1            'Bout how you did me wrong, wrong, wrong?     2  \n",
       " 2                 Lived in the shade you were throwing     3  \n",
       " 3         'Til all of my sunshine was gone, gone, gone     4  \n",
       " 4                      And I couldn't get away from ya     5  \n",
       " ..                                                 ...   ...  \n",
       " 929                              Not the things I hate    55  \n",
       " 930        Not the things I'm afraid of, I'm afraid of    56  \n",
       " 931  Or the things that haunt me in the middle of t...    57  \n",
       " 932                               I, I just think that    58  \n",
       " 933                              You are what you love    59  \n",
       " \n",
       " [934 rows x 5 columns]]"
      ]
     },
     "execution_count": 228,
     "metadata": {},
     "output_type": "execute_result"
    }
   ],
   "source": [
    "# Create a dataframe of the data\n",
    "\n",
    "os.listdir('/blue/zoo4926/juliabruner/Taylor_data')\n",
    "files = os.listdir()\n",
    "\n",
    "albums_df = list()\n",
    "[f'S{i}' for i in range(len(albums_df))]\n",
    "albums_df = [pd.read_csv(f) for f in files]\n",
    "albums_df\n",
    "# list of dataframes, each dataframe has the data for one album "
   ]
  },
  {
   "cell_type": "markdown",
   "id": "a2c6d675-316e-4335-b9e4-8c61ff9672e6",
   "metadata": {},
   "source": [
    "# Remove all data except the lyric text"
   ]
  },
  {
   "cell_type": "code",
   "execution_count": 229,
   "id": "dc6dec7c-6f83-4453-8eae-d9c53d5c3fb0",
   "metadata": {},
   "outputs": [
    {
     "data": {
      "text/plain": [
       "[       album_name                                             lyric\n",
       " 0    Taylor Swift               He said the way my blue eyes shined\n",
       " 1    Taylor Swift       Put those Georgia stars to shame that night\n",
       " 2    Taylor Swift                            I said, \"That's a lie\"\n",
       " 3    Taylor Swift                       Just a boy in a Chevy truck\n",
       " 4    Taylor Swift              That had a tendency of gettin' stuck\n",
       " ..            ...                                               ...\n",
       " 604  Taylor Swift                               Don't know why I do\n",
       " 605  Taylor Swift  He's the time taken up, but there's never enough\n",
       " 606  Taylor Swift             And he's all that I need to fall into\n",
       " 607  Taylor Swift                                  Drew looks at me\n",
       " 608  Taylor Swift                    I fake a smile so he won't see\n",
       " \n",
       " [609 rows x 2 columns],\n",
       "              album_name                                              lyric\n",
       " 0    Speak Now (Deluxe)  You were in college, working part-time, waitin...\n",
       " 1    Speak Now (Deluxe)            Left a small town and never looked back\n",
       " 2    Speak Now (Deluxe)        I was a flight risk, with a fear of falling\n",
       " 3    Speak Now (Deluxe)  Wondering why we bother with love, if it never...\n",
       " 4    Speak Now (Deluxe)                       I say, \"Can you believe it?\"\n",
       " ..                  ...                                                ...\n",
       " 940  Speak Now (Deluxe)                   I'll be right here on the ground\n",
       " 941  Speak Now (Deluxe)                            When you come back down\n",
       " 942  Speak Now (Deluxe)                             La, la, la, la, la, la\n",
       " 943  Speak Now (Deluxe)                             La, la, la, la, la, la\n",
       " 944  Speak Now (Deluxe)                            When you come back down\n",
       " \n",
       " [945 rows x 2 columns],\n",
       "                     album_name  \\\n",
       " 0    folklore (deluxe version)   \n",
       " 1    folklore (deluxe version)   \n",
       " 2    folklore (deluxe version)   \n",
       " 3    folklore (deluxe version)   \n",
       " 4    folklore (deluxe version)   \n",
       " ..                         ...   \n",
       " 717  folklore (deluxe version)   \n",
       " 718  folklore (deluxe version)   \n",
       " 719  folklore (deluxe version)   \n",
       " 720  folklore (deluxe version)   \n",
       " 721  folklore (deluxe version)   \n",
       " \n",
       "                                                  lyric  \n",
       " 0                 I'm doing good, I'm on some new shit  \n",
       " 1                    Been saying \"yes\" instead of \"no\"  \n",
       " 2    I thought I saw you at the bus stop, I didn't ...  \n",
       " 3                  I hit the ground running each night  \n",
       " 4                             I hit the Sunday matinée  \n",
       " ..                                                 ...  \n",
       " 717  Take me to the Lakes where all the poets went ...  \n",
       " 718     I don't belong and, my beloved, neither do you  \n",
       " 719  Those Windermere peaks look like a perfect pla...  \n",
       " 720           I'm setting off, but not without my muse  \n",
       " 721                                No, not without you  \n",
       " \n",
       " [722 rows x 2 columns],\n",
       "          album_name                                              lyric\n",
       " 0     1989 (Deluxe)      Walking through a crowd, the village is aglow\n",
       " 1     1989 (Deluxe)        Kaleidoscope of loud heartbeats under coats\n",
       " 2     1989 (Deluxe)               Everybody here wanted something more\n",
       " 3     1989 (Deluxe)       Searching for a sound we hadn't heard before\n",
       " 4     1989 (Deluxe)                                        And it said\n",
       " ...             ...                                                ...\n",
       " 1001  1989 (Deluxe)                  Heartbreak is the national anthem\n",
       " 1002  1989 (Deluxe)                                 We sing it proudly\n",
       " 1003  1989 (Deluxe)  We are too busy dancing to get knocked off our...\n",
       " 1004  1989 (Deluxe)                      Baby, we're the new romantics\n",
       " 1005  1989 (Deluxe)                   The best people in life are free\n",
       " \n",
       " [1006 rows x 2 columns],\n",
       "      album_name                                              lyric\n",
       " 0    reputation     Knew he was a killer first time that I saw him\n",
       " 1    reputation  Wondered how many girls he had loved and left ...\n",
       " 2    reputation       But if he's a ghost, then I can be a phantom\n",
       " 3    reputation                       Holdin' him for ransom, some\n",
       " 4    reputation  Some boys are tryin' too hard, he don't try at...\n",
       " ..          ...                                                ...\n",
       " 983  reputation  (Hold on to the memories, they will hold on to...\n",
       " 984  reputation                Please don't ever become a stranger\n",
       " 985  reputation  (Hold on to the memories, they will hold on to...\n",
       " 986  reputation             Whose laugh I could recognize anywhere\n",
       " 987  reputation                            (I will hold on to you)\n",
       " \n",
       " [988 rows x 2 columns],\n",
       "                        album_name  \\\n",
       " 0     Fearless (Taylor’s Version)   \n",
       " 1     Fearless (Taylor’s Version)   \n",
       " 2     Fearless (Taylor’s Version)   \n",
       " 3     Fearless (Taylor’s Version)   \n",
       " 4     Fearless (Taylor’s Version)   \n",
       " ...                           ...   \n",
       " 1165  Fearless (Taylor’s Version)   \n",
       " 1166  Fearless (Taylor’s Version)   \n",
       " 1167  Fearless (Taylor’s Version)   \n",
       " 1168  Fearless (Taylor’s Version)   \n",
       " 1169  Fearless (Taylor’s Version)   \n",
       " \n",
       "                                                   lyric  \n",
       " 0                       There's something 'bout the way  \n",
       " 1                The street looks when it's just rained  \n",
       " 2     There's a glow off the pavement, you walk me t...  \n",
       " 3     And you know I wanna ask you to dance right there  \n",
       " 4                In the middle of the parking lot, yeah  \n",
       " ...                                                 ...  \n",
       " 1165                    And all I have is your sympathy  \n",
       " 1166  'Cause you took me home but you just couldn't ...  \n",
       " 1167  Oh, you took me home, I thought you were gonna...  \n",
       " 1168                                       Bye bye baby  \n",
       " 1169                                       Bye bye baby  \n",
       " \n",
       " [1170 rows x 2 columns],\n",
       "                 album_name                                        lyric\n",
       " 0     Red (Deluxe Edition)  I'm walking fast through the traffic lights\n",
       " 1     Red (Deluxe Edition)                  Busy streets and busy lives\n",
       " 2     Red (Deluxe Edition)              And all we know is touch and go\n",
       " 3     Red (Deluxe Edition)         We are alone with our changing minds\n",
       " 4     Red (Deluxe Edition)      We fall in love 'til it hurts or bleeds\n",
       " ...                    ...                                          ...\n",
       " 1067  Red (Deluxe Edition)                   And I’ll never be the same\n",
       " 1068  Red (Deluxe Edition)                     This is a state of grace\n",
       " 1069  Red (Deluxe Edition)                   This is a worthwhile fight\n",
       " 1070  Red (Deluxe Edition)                      Love is a ruthless game\n",
       " 1071  Red (Deluxe Edition)            Unless you play it good and right\n",
       " \n",
       " [1072 rows x 2 columns],\n",
       "                     album_name  \\\n",
       " 0    evermore (deluxe version)   \n",
       " 1    evermore (deluxe version)   \n",
       " 2    evermore (deluxe version)   \n",
       " 3    evermore (deluxe version)   \n",
       " 4    evermore (deluxe version)   \n",
       " ..                         ...   \n",
       " 907  evermore (deluxe version)   \n",
       " 908  evermore (deluxe version)   \n",
       " 909  evermore (deluxe version)   \n",
       " 910  evermore (deluxe version)   \n",
       " 911  evermore (deluxe version)   \n",
       " \n",
       "                                                  lyric  \n",
       " 0    I'm like the water when your ship rolled in th...  \n",
       " 1    Rough on the surface, but you cut through like...  \n",
       " 2                      And if it was an open-shut case  \n",
       " 3    I never would've known from that look on your ...  \n",
       " 4           Lost in your current like a priceless wine  \n",
       " ..                                                 ...  \n",
       " 907             You know, you know, you know, you know  \n",
       " 908                               When it's time to go  \n",
       " 909                                     So then you go  \n",
       " 910                                        Then you go  \n",
       " 911                                        You just go  \n",
       " \n",
       " [912 rows x 2 columns],\n",
       "     album_name                                              lyric\n",
       " 0        Lover                 How many days did I spend thinking\n",
       " 1        Lover          'Bout how you did me wrong, wrong, wrong?\n",
       " 2        Lover               Lived in the shade you were throwing\n",
       " 3        Lover       'Til all of my sunshine was gone, gone, gone\n",
       " 4        Lover                    And I couldn't get away from ya\n",
       " ..         ...                                                ...\n",
       " 929      Lover                              Not the things I hate\n",
       " 930      Lover        Not the things I'm afraid of, I'm afraid of\n",
       " 931      Lover  Or the things that haunt me in the middle of t...\n",
       " 932      Lover                               I, I just think that\n",
       " 933      Lover                              You are what you love\n",
       " \n",
       " [934 rows x 2 columns]]"
      ]
     },
     "execution_count": 229,
     "metadata": {},
     "output_type": "execute_result"
    }
   ],
   "source": [
    "# for loop to remove all data except the lyrics from each dataframe by dropping the other columns\n",
    "for album in albums_df:\n",
    "    album.drop(columns=['track_title', 'track_n', 'line'], axis=1, inplace=True)\n",
    "albums_df"
   ]
  },
  {
   "cell_type": "markdown",
   "id": "ac6a8e94-23a1-4612-802f-e9a60c13db7a",
   "metadata": {},
   "source": [
    "# Concatonate the dataframes in the list\n",
    "\n",
    "# then...\n",
    "\n",
    "# Join the cells for each album to merge the lyrics for all songs from a single album"
   ]
  },
  {
   "cell_type": "code",
   "execution_count": 230,
   "id": "b6702bd4-dd60-4fc4-bbc8-af5fe84ddd57",
   "metadata": {},
   "outputs": [
    {
     "data": {
      "text/html": [
       "<div>\n",
       "<style scoped>\n",
       "    .dataframe tbody tr th:only-of-type {\n",
       "        vertical-align: middle;\n",
       "    }\n",
       "\n",
       "    .dataframe tbody tr th {\n",
       "        vertical-align: top;\n",
       "    }\n",
       "\n",
       "    .dataframe thead th {\n",
       "        text-align: right;\n",
       "    }\n",
       "</style>\n",
       "<table border=\"1\" class=\"dataframe\">\n",
       "  <thead>\n",
       "    <tr style=\"text-align: right;\">\n",
       "      <th></th>\n",
       "      <th>album_name</th>\n",
       "      <th>lyric</th>\n",
       "    </tr>\n",
       "  </thead>\n",
       "  <tbody>\n",
       "    <tr>\n",
       "      <th>0</th>\n",
       "      <td>1989 (Deluxe)</td>\n",
       "      <td>Walking through a crowd, the village is aglow ...</td>\n",
       "    </tr>\n",
       "    <tr>\n",
       "      <th>1</th>\n",
       "      <td>Fearless (Taylor’s Version)</td>\n",
       "      <td>There's something 'bout the way The street loo...</td>\n",
       "    </tr>\n",
       "    <tr>\n",
       "      <th>2</th>\n",
       "      <td>Lover</td>\n",
       "      <td>How many days did I spend thinking 'Bout how y...</td>\n",
       "    </tr>\n",
       "    <tr>\n",
       "      <th>3</th>\n",
       "      <td>Red (Deluxe Edition)</td>\n",
       "      <td>I'm walking fast through the traffic lights Bu...</td>\n",
       "    </tr>\n",
       "    <tr>\n",
       "      <th>4</th>\n",
       "      <td>Speak Now (Deluxe)</td>\n",
       "      <td>You were in college, working part-time, waitin...</td>\n",
       "    </tr>\n",
       "    <tr>\n",
       "      <th>5</th>\n",
       "      <td>Taylor Swift</td>\n",
       "      <td>He said the way my blue eyes shined Put those ...</td>\n",
       "    </tr>\n",
       "    <tr>\n",
       "      <th>6</th>\n",
       "      <td>evermore (deluxe version)</td>\n",
       "      <td>I'm like the water when your ship rolled in th...</td>\n",
       "    </tr>\n",
       "    <tr>\n",
       "      <th>7</th>\n",
       "      <td>folklore (deluxe version)</td>\n",
       "      <td>I'm doing good, I'm on some new shit Been sayi...</td>\n",
       "    </tr>\n",
       "    <tr>\n",
       "      <th>8</th>\n",
       "      <td>reputation</td>\n",
       "      <td>Knew he was a killer first time that I saw him...</td>\n",
       "    </tr>\n",
       "  </tbody>\n",
       "</table>\n",
       "</div>"
      ],
      "text/plain": [
       "                    album_name  \\\n",
       "0                1989 (Deluxe)   \n",
       "1  Fearless (Taylor’s Version)   \n",
       "2                        Lover   \n",
       "3         Red (Deluxe Edition)   \n",
       "4           Speak Now (Deluxe)   \n",
       "5                 Taylor Swift   \n",
       "6    evermore (deluxe version)   \n",
       "7    folklore (deluxe version)   \n",
       "8                   reputation   \n",
       "\n",
       "                                               lyric  \n",
       "0  Walking through a crowd, the village is aglow ...  \n",
       "1  There's something 'bout the way The street loo...  \n",
       "2  How many days did I spend thinking 'Bout how y...  \n",
       "3  I'm walking fast through the traffic lights Bu...  \n",
       "4  You were in college, working part-time, waitin...  \n",
       "5  He said the way my blue eyes shined Put those ...  \n",
       "6  I'm like the water when your ship rolled in th...  \n",
       "7  I'm doing good, I'm on some new shit Been sayi...  \n",
       "8  Knew he was a killer first time that I saw him...  "
      ]
     },
     "execution_count": 230,
     "metadata": {},
     "output_type": "execute_result"
    }
   ],
   "source": [
    "total_df = pd.concat(albums_df)\n",
    "eras_df = total_df.groupby('album_name', as_index=False).agg(' '.join)\n",
    "# join cells according to album name to get lyrics from a single album together\n",
    "\n",
    "eras_df\n",
    "# visualize the result"
   ]
  },
  {
   "cell_type": "markdown",
   "id": "2637275c-db6b-479f-81ad-85c8e962ca1c",
   "metadata": {},
   "source": [
    "# Convert all lyrics characters to lowercase"
   ]
  },
  {
   "cell_type": "code",
   "execution_count": 231,
   "id": "2db16acf-3609-48f2-8e42-4e0eccfb93d9",
   "metadata": {},
   "outputs": [
    {
     "data": {
      "text/html": [
       "<div>\n",
       "<style scoped>\n",
       "    .dataframe tbody tr th:only-of-type {\n",
       "        vertical-align: middle;\n",
       "    }\n",
       "\n",
       "    .dataframe tbody tr th {\n",
       "        vertical-align: top;\n",
       "    }\n",
       "\n",
       "    .dataframe thead th {\n",
       "        text-align: right;\n",
       "    }\n",
       "</style>\n",
       "<table border=\"1\" class=\"dataframe\">\n",
       "  <thead>\n",
       "    <tr style=\"text-align: right;\">\n",
       "      <th></th>\n",
       "      <th>album_name</th>\n",
       "      <th>lyric</th>\n",
       "    </tr>\n",
       "  </thead>\n",
       "  <tbody>\n",
       "    <tr>\n",
       "      <th>0</th>\n",
       "      <td>1989 (Deluxe)</td>\n",
       "      <td>walking through a crowd, the village is aglow ...</td>\n",
       "    </tr>\n",
       "    <tr>\n",
       "      <th>1</th>\n",
       "      <td>Fearless (Taylor’s Version)</td>\n",
       "      <td>there's something 'bout the way the street loo...</td>\n",
       "    </tr>\n",
       "    <tr>\n",
       "      <th>2</th>\n",
       "      <td>Lover</td>\n",
       "      <td>how many days did i spend thinking 'bout how y...</td>\n",
       "    </tr>\n",
       "    <tr>\n",
       "      <th>3</th>\n",
       "      <td>Red (Deluxe Edition)</td>\n",
       "      <td>i'm walking fast through the traffic lights bu...</td>\n",
       "    </tr>\n",
       "    <tr>\n",
       "      <th>4</th>\n",
       "      <td>Speak Now (Deluxe)</td>\n",
       "      <td>you were in college, working part-time, waitin...</td>\n",
       "    </tr>\n",
       "    <tr>\n",
       "      <th>5</th>\n",
       "      <td>Taylor Swift</td>\n",
       "      <td>he said the way my blue eyes shined put those ...</td>\n",
       "    </tr>\n",
       "    <tr>\n",
       "      <th>6</th>\n",
       "      <td>evermore (deluxe version)</td>\n",
       "      <td>i'm like the water when your ship rolled in th...</td>\n",
       "    </tr>\n",
       "    <tr>\n",
       "      <th>7</th>\n",
       "      <td>folklore (deluxe version)</td>\n",
       "      <td>i'm doing good, i'm on some new shit been sayi...</td>\n",
       "    </tr>\n",
       "    <tr>\n",
       "      <th>8</th>\n",
       "      <td>reputation</td>\n",
       "      <td>knew he was a killer first time that i saw him...</td>\n",
       "    </tr>\n",
       "  </tbody>\n",
       "</table>\n",
       "</div>"
      ],
      "text/plain": [
       "                    album_name  \\\n",
       "0                1989 (Deluxe)   \n",
       "1  Fearless (Taylor’s Version)   \n",
       "2                        Lover   \n",
       "3         Red (Deluxe Edition)   \n",
       "4           Speak Now (Deluxe)   \n",
       "5                 Taylor Swift   \n",
       "6    evermore (deluxe version)   \n",
       "7    folklore (deluxe version)   \n",
       "8                   reputation   \n",
       "\n",
       "                                               lyric  \n",
       "0  walking through a crowd, the village is aglow ...  \n",
       "1  there's something 'bout the way the street loo...  \n",
       "2  how many days did i spend thinking 'bout how y...  \n",
       "3  i'm walking fast through the traffic lights bu...  \n",
       "4  you were in college, working part-time, waitin...  \n",
       "5  he said the way my blue eyes shined put those ...  \n",
       "6  i'm like the water when your ship rolled in th...  \n",
       "7  i'm doing good, i'm on some new shit been sayi...  \n",
       "8  knew he was a killer first time that i saw him...  "
      ]
     },
     "execution_count": 231,
     "metadata": {},
     "output_type": "execute_result"
    }
   ],
   "source": [
    "# use str.lower to convert all characters to lowercase, this function can be applied to a data frame directly\n",
    "\n",
    "eras_lowercase = eras_df['lyric'].str.lower()\n",
    "eras_df.drop(columns=['lyric'], axis=1, inplace=True) # drop the old lyric column\n",
    "eras_df['lyric'] = eras_lowercase # append the df with the new lower case lyrics\n",
    "eras_df # visulaize to ensure lowercase function worked properly\n"
   ]
  },
  {
   "cell_type": "markdown",
   "id": "5558f164-f1d5-43b1-b79d-541458bb173f",
   "metadata": {},
   "source": [
    "# Remove all contractions"
   ]
  },
  {
   "cell_type": "code",
   "execution_count": 232,
   "id": "943fc959-74bc-408c-8a47-8f926cbbdb64",
   "metadata": {},
   "outputs": [],
   "source": [
    "# Use regular expressions to remove contractions\n",
    "\n",
    "import re # regular expressions package\n",
    "\n",
    "\n",
    "# function defines the contraction and how to replace it with the non-contracted version\n",
    "def decontracted(phrase):\n",
    "    # specific\n",
    "    phrase = re.sub(r\"won\\'t\", \"will not\", phrase)\n",
    "    phrase = re.sub(r\"can\\'t\", \"can not\", phrase)\n",
    "    phrase = re.sub(r\"\\'til\", \"until\", phrase)\n",
    "    phrase = re.sub(r\"\\'bout\", \"about\", phrase)\n",
    "    phrase = re.sub(r\"\\'cause\", \"because\", phrase)\n",
    "    phrase = re.sub(r\"\\'fore\", \"before\", phrase)\n",
    "    phrase = re.sub(r\"\\'round\", \"around\", phrase)\n",
    "    phrase = re.sub(r\"tryna\", \"trying to\", phrase)\n",
    "    #tryna\n",
    "    \n",
    "    # artifact from dataset\n",
    "    phrase = re.sub(r\"Joeboy\\s\\'Sip.\\(Alcohol\\)\\'.Official.Lyrics.&.Meaning...Verified.\", \"\", phrase) # artifiact from lyrics\n",
    "    phrase = re.sub(r\"joeboy..isip..alcohol...official.lyrics.&.meaning...\", \"\", phrase)\n",
    "    phrase = re.sub(r\"\\u2005\", \" \", phrase)\n",
    "    phrase = re.sub(r\"\\u205f\", \" \", phrase)\n",
    "   # phrase = re.sub(r\"nardo.wick.+\\(live.+?\\)...open.mic.+?\\ing.+?\\ing...\", \"\", phrase)\n",
    "    \n",
    "\n",
    "    # general\n",
    "    phrase = re.sub(r\"n\\'t\", \" not\", phrase)\n",
    "    phrase = re.sub(r\"\\'re\", \" are\", phrase)\n",
    "    phrase = re.sub(r\"\\'s\", \" is\", phrase)\n",
    "    phrase = re.sub(r\"\\'d\", \" would\", phrase)\n",
    "    phrase = re.sub(r\"\\'ll\", \" will\", phrase)\n",
    "    phrase = re.sub(r\"\\'t\", \" not\", phrase)\n",
    "    phrase = re.sub(r\"\\'ve\", \" have\", phrase)\n",
    "    phrase = re.sub(r\"\\'m\", \" am\", phrase)\n",
    "    phrase = re.sub(r\"in\\'\", \"ing\", phrase)\n",
    "    return phrase"
   ]
  },
  {
   "cell_type": "code",
   "execution_count": 233,
   "id": "b5477daa-26c3-47f8-88fc-a684e6cde838",
   "metadata": {},
   "outputs": [],
   "source": [
    "# apply the funciton to remove contractions to the lyrics from each of the albums\n",
    "# hardcoded but could use for loop and itterrows \n",
    "debut_corpus = decontracted((eras_df['lyric'].iloc[5]))\n",
    "fearless_corpus = decontracted((eras_df['lyric'].iloc[1]))\n",
    "speaknow_corpus = decontracted((eras_df['lyric'].iloc[4]))\n",
    "red_corpus = decontracted((eras_df['lyric'].iloc[3]))\n",
    "ts1989_corpus = decontracted((eras_df['lyric'].iloc[0]))\n",
    "lover_corpus = decontracted((eras_df['lyric'].iloc[2]))\n",
    "reputation_corpus = decontracted((eras_df['lyric'].iloc[8]))\n",
    "folklore_corpus = decontracted((eras_df['lyric'].iloc[7]))\n",
    "evermore_corpus = decontracted((eras_df['lyric'].iloc[6]))"
   ]
  },
  {
   "cell_type": "markdown",
   "id": "6ce53cbf-03f9-4c06-acd6-d0861e878348",
   "metadata": {},
   "source": [
    "# Remove all punctuation\n",
    "### NOTE: Do this AFTER resolving contractions - otherwise the apostrophes used to identify contractions will be lost"
   ]
  },
  {
   "cell_type": "code",
   "execution_count": 235,
   "id": "a8884b14-8f37-43cd-936b-fdbdb4436d2c",
   "metadata": {},
   "outputs": [],
   "source": [
    "# Use regular expressions to select all punctuation and replace it with empty string value\n",
    "def rid_punctuation(phrase):\n",
    "    phrase = re.sub(r'[^\\w\\s]', '', phrase)\n",
    "    phrase = re.sub(r'i i i', 'i', phrase)# the regex selects anything that is not a word character or space to remove\n",
    "    return phrase\n"
   ]
  },
  {
   "cell_type": "code",
   "execution_count": 236,
   "id": "d7f38edf-f4b5-4903-bf04-b4c3c0fbb052",
   "metadata": {},
   "outputs": [],
   "source": [
    "# using the function I wrote to remove any puntucation from the lyrics\n",
    "debut_corpus = rid_punctuation(debut_corpus)\n",
    "fearless_corpus = rid_punctuation(fearless_corpus)\n",
    "speaknow_corpus = rid_punctuation(speaknow_corpus)\n",
    "red_corpus = rid_punctuation(red_corpus)\n",
    "ts1989_corpus = rid_punctuation(ts1989_corpus)\n",
    "lover_corpus = rid_punctuation(lover_corpus)\n",
    "reputation_corpus = rid_punctuation(reputation_corpus)\n",
    "folklore_corpus = rid_punctuation(folklore_corpus)\n",
    "evermore_corpus = rid_punctuation(evermore_corpus)"
   ]
  },
  {
   "cell_type": "markdown",
   "id": "ebd94f27-a59e-4715-aee1-452c76072969",
   "metadata": {},
   "source": [
    "# Each corpus is now ready for analysis"
   ]
  },
  {
   "cell_type": "code",
   "execution_count": 237,
   "id": "521a6f82-da74-4932-969a-4db09c108658",
   "metadata": {},
   "outputs": [
    {
     "data": {
      "text/plain": [
       "'walking through a crowd the village is aglow kaleidoscope of loud heartbeats under coats everybody here wanted something more searching for a sound we had not heard before and it said welcome to new york it is been waiting for you welcome to new york welcome to new york welcome to new york it is been waiting for you welcome to new york welcome to new york it is a new soundtrack i could dance to this beat beat forevermore the lights are so bright but they never blind me me welcome to new york it is been waiting for you welcome to new york welcome to new york when we first dropped our bags on apartment floors took our broken hearts put them in a drawer everybody here was someone else before and you can want who you want boys and boys and girls and girls welcome to new york it is been waiting for you welcome to new york welcome to new york welcome to new york it is been waiting for you welcome to new york welcome to new york it is a new soundtrack i could dance to this beat beat forevermore the lights are so bright but they never blind me me welcome to new york new york it is been waiting for you welcome to new york welcome to new york like any great love it keeps you guessing like any real love it is everchanging like any true love it drives you crazy but you know you would not change anything anything anything welcome to new york it is been waiting for you welcome to new york welcome to new york welcome to new york it is been waiting for you welcome to new york welcome to new york it is a new soundtrack i could dance to this beat the lights are so bright but they never blind me welcome to new york new soundtrack it is been waiting for you welcome to new york the lights are so bright but they never blind me welcome to new york so bright they never blind me welcome to new york welcome to new york nice to meet you where you been i could show you incredible things magic madness heaven sin saw you there and i thought oh my god look at that face you look like my next mistake love is a game wanna play ayy new money suit and tie i can read you like a magazine ai not it funny rumors fly and i know you heard about me so hey let is be friends i am dying to see how this one ends grab your passport and my hand i can make the bad guys good for a weekend so it is gonna be forever or it is gonna go down in flames you can tell me when it is over mm if the high was worth the pain got a long list of exlovers they will tell you i am insane because you know i love the players and you love the game because we are young and we are reckless we will take this way too far it will leave you breathless hmm or with a nasty scar got a long list of exlovers they will tell you i am insane but i have got a blank space baby and i will write your name joeboy  isip alcohol official lyrics  meaning  verified cherry lips crystal skies i could show you incredible things stolen kisses pretty lies you are the king baby i am your queen find out what you want be that girl for a month wait the worst is yet to come oh no screaming crying perfect storms i can make all the tables turn rose garden filled with thorns keep you second guessing like oh my god who is she i get drunk on jealousy but you will come back each time you leave because darling i am a nightmare dressed like a daydream so it is gonna be forever or it is gonna go down in flames you can tell me when it is over mm if the high was worth the pain got a long list of exlovers they will tell you i am insane because you know i love the players and you love the game because we are young and we are reckless we will take this way too far it will leave you breathless hmm or with a nasty scar got a long list of exlovers they will tell you i am insane but i have got a blank space baby and i will write your name boys only want love if it is torture do not say i did not say i did not warn ya boys only want love if it is torture do not say i did not say i did not warn ya so it is gonna be forever or it is gonna go down in flames you can tell me when it is over mm if the high was worth the pain got a long list of exlovers they will tell you i am insane because you know i love the players and you love the game because we are young and we are reckless we will take this way too far it will leave you breathless hmm or with a nasty scar got a long list of exlovers they will tell you i am insane but i have got a blank space baby and i will write your name midnight you come and pick me up no headlights a long drive could end in burning flames or paradise fade into view oh it is been a while since i have even heard from you heard from you and i should just tell you to leave because i know exactly where it leads but i watch us go around and around each time you got that james dean daydream look in your eye and i got that red lip classic thing that you like and when we go crashing down we come back every time because we never go out of style we never go out of style you got that long hair slicked back white tshirt and i got that good girl faith and a tight little skirt and when we go crashing down we come back every time because we never go out of style we never go out of style so it goes he can not keep his wild eyes on the road mmm takes me home the lights are off he is taking off his coat mmm yeah i say i heard oh that you have been out and about with some other girl some other girl he says what you heard is true but i can not stop thinking about you and i i said i have been there too a few times because you got that james dean daydream look in your eye and i got that red lip classic thing that you like and when we go crashing down we come back every time because we never go out of style we never go out of style you got that long hair slicked back white tshirt and i got that good girl faith and a tight little skirt a tight little skirt and when we go crashing down we come back every time because we never go out of style we never go we never go we never go out of style take me home just take me home yeah just take me home ohoh whoaoh oh out of style oh you got that james dean daydream look in your eye and i got that red lip classic thing that you like and when we go crashing down and when we go we come back every time because we never go out of style we never go out of style looking at it now it all seems so simple we were lying on your couch i remember you took a polaroid of us then discovered then discovered the rest of the world was black and white but we were in screaming color and i remember thinking are we out of the woods yet are we out of the woods yet are we out of the woods yet are we out of the woods are we in the clear yet are we in the clear yet are we in the clear yet in the clear yet good are we out of the woods yet are we out of the woods yet are we out of the woods yet are we out of the woods are we in the clear yet are we in the clear yet are we in the clear yet in the clear yet good are we out of the woods looking at it now last december last december we were built to fall apart then fall back together back together ooh your necklace hanging from my neck the night we could not quite forget when we decided we decided to move the furniture so we could dance baby like we stood a chance two paper airplanes flying flying flying and i remember thinking joeboy  isip alcohol official lyrics  meaning  verified are we out of the woods yet are we out of the woods yet are we out of the woods yet are we out of the woods are we in the clear yet are we in the clear yet are we in the clear yet in the clear yet good are we out of the woods yet are we out of the woods yet are we out of the woods yet oh are we out of the woods are we in the clear yet are we in the clear yet are we in the clear yet in the clear yet good are we out of the woods remember when you hit the brakes too soon twenty stitches in a hospital room when you started crying baby i did too but when the sun came up i was looking at you remember when we could not take the heat i walked out i said i am setting you free but the monsters turned out to be just trees when the sun came up you were looking at me you were looking at me ooh you were looking at me are we out of the woods yet are we out of the woods yet are we out of the woods yet are we out of the woods i remember are we in the clear yet are we in the clear yet are we in the clear yet in the clear yet good oh i remember are we out of the woods yet are we out of the woods yet yeah are we out of the woods yet are we out of the woods are we in the clear yet are we in the clear yet are we are we in the clear yet in the clear yet good are we out of the woods yet are we out of the woods yet are we out of the woods yet are we out of the woods are we in the clear yet yeah are we in the clear yet yeah are we in the clear yet in the clear yet good are we out of the woods yet are we out of the woods yet are we out of the woods yet are we out of the woods are we in the clear yet are we in the clear yet are we in the clear yet in the clear yet good are we out of the woods yet are we out of the woods yet are we out of the woods yet are we out of the woods are we in the clear yet are we in the clear yet are we in the clear yet in the clear yet good hey hey hey hey hey hey hey hey hey hey hey hey people like you always want back the love they gave away and people like me wanna believe you when you say you have changed the more i think about it now the less i know all i know is that you drove us off the road stay hey all you had to do was stay had me in the palm of your hand then why would you have to go and lock me out when i let you in stay hey now you say you want it back now that it is just too late well could have been easy all you had to do was stay all you had to do was stay all you had to do was stay all you had to do was stay all you had to do was stay here you are now calling me up but i do not know what to say i have been picking up the pieces of the mess you made people like you always want back the love they pushed aside but people like me are gone forever when you say goodbye stay hey all you had to do was stay had me in the palm of your hand then why would you have to go and lock me out when i let you in stay hey now you say you want it back now that it is just too late well could have been easy all you had to do was stay all you had to do was stay all you had to do was stay all you had to do was stay stay stay stay stay let me remind you this was what you wanted oh oh ohohoh you ended it you were all i wanted oh oh ohohoh but not like this not like this not like this oh all you had to do was stay hey all you had to do was stay had me in the palm of your hand then why would you want to go and lock me out when i let you in stay hey now you say you want it back now that it is just too late well could have been easy all you had to do was stay hey all you had to do was stay had me in the palm of your hand then why would you have to go and lock me out when i let you in stay hey now you say you want it back now that it is just too late well could have been easy all you had to do was stay all you had to do was stay all you had to do was stay oh all you had to do was stay all you had to do was stay ooh all you had to do was stay i stay out too late got nothing in my brain that is what people say mmmmmm that is what people say mmmmmm i go on too many dates but i can not make them stay at least that is what people say mmmmmm that is what people say mmmmmm but i keep cruising can not stop will not stop moving it is like i got this music in my mind saying it is gonna be alright because the players gonna play play play play play and the haters gonna hate hate hate hate hate baby i am just gonna shake shake shake shake shake i shake it off i shake it off heartbreakers gonna break break break break break and the fakers gonna fake fake fake fake fake baby i am just gonna shake shake shake shake shake i shake it off i shake it off i never miss a beat i am lightning on my feet and that is what they do not see mmmmmm that is what they do not see mmmmmm i am dancing on my own dancing on my own i make the moves up as i go moves up as i go and that is what they do not know mmmmmm that is what they do not know mmmmmm but i keep cruising can not stop will not stop grooving it is like i got this music in my mind saying it is gonna be alright because the players gonna play play play play play and the haters gonna hate hate hate hate hate baby i am just gonna shake shake shake shake shake i shake it off i shake it off heartbreakers gonna break break break break break and the fakers gonna fake fake fake fake fake baby i am just gonna shake shake shake shake shake i shake it off i shake it off shake it off i shake it off i shake it off i shake it off i shake it off i shake it off i shake it off i shake it off hey hey hey just think while you have been getting down and out about the liars and the dirty dirty cheats of the world you could have been getting down to this sick beat my exman brought his new girlfriend she is like oh my god but i am just gonna shake and to the fella over there with the hella good hair will not you come on over baby we can shake shake shake yeah oh oh oh because the players gonna play play play play play and the haters gonna hate hate hate hate hate haters gonna hate baby i am just gonna shake shake shake shake shake i shake it off i shake it off heartbreakers gonna break break break break break mmm and the fakers gonna fake fake fake fake fake and fake and fake and fake baby i am just gonna shake shake shake shake shake i shake it off i shake it off shake it off i shake it off i shake it off i shake it off i shake it off i shake it off i shake it off i shake it off shake it off i shake it off i shake it off i shake it off i shake it off i shake it off i shake it off i shake it off yeah shake it off i shake it off i shake it off i shake it off you got to i shake it off i shake it off i shake it off i shake it off it is 2am in your car windows down you pass my street the memories start you say it is in the past you drive straight ahead you are thinking that i hate you now because you still do not know what i never said i wish you would come back wish i never hung up the phone like i did i wish you knew that i would never forget you as long as i live and i wish you were right here right now it is all good i wish you would it is 2 am in my room headlights pass the window pane i think of you we are a crooked love in a straight line down makes you want to run and hide but it makes you turn right back around i wish you would come back wish i never hung up the phone like i did i wish you knew that i would never forget you as long as i live and i wish you were right here right now it is all good i wish you would i wish we could go back and remember what we were fighting for and i wish you knew that i miss you too much to be mad anymore and i wish you were right here right now it is all good i wish you would i i wish i wish i i i wish i wish i i i wish i wish i you always knew how to push my buttons you give me everything and nothing this mad mad love makes you come running to stand back where you stood i wish you would i wish you would i wish you would i wish you would i wish you would i wish you would i wish you would i wish you would i wish i wish i 2am here we are see your face hear my voice in the dark we are a crooked love in a straight line down makes you wanna run and hide but it made us turn right back around i wish you would come back wish i never hung up the phone like i did i wish you knew that i would never forget you as long as i live and i wish you were right here right now it is all good i wish you would i wish you would come back wish i never hung up the phone like i did i wish you knew that i would never forget you as long as i live and i wish you were right here right now it is all good i wish you would i wish we could go back and remember what we were fighting for and i wish you knew that i miss you too much to be mad anymore and i wish you were right here right now it is all good i wish you would i i wish i wish i you always knew how to push my buttons you give me everything and nothing this mad mad love makes you come running to stand back where you stood i wish you would i wish you would i wish you would i wish you would i wish you would i wish you would i wish you would i wish you would i wish you would i i wish i wish i i i wish i wish i i i wish i wish i i wish you would because baby now we have got bad blood you know it used to be mad love so take a look what you have done because baby now we have got bad blood hey now we have got problems and i do not think we can solve em you made a really deep cut and baby now we have got bad blood hey did you have to do this i was thinking that you could be trusted did you have to ruin what was shiny now it is all rusted did you have to hit me where i am weak baby i could not breathe and rub it in so deep salt in the wound like you are laughing right at me oh it is so sad to think about the good times you and i because baby now we have got bad blood you know it used to be mad love so take a look what you have done because baby now we have got bad blood hey now we have got problems and i do not think we can solve em you made a really deep cut and baby now we have got bad blood hey did you think we would be fine still got scars in my back from your knives so do not think it is in the past these kinds of wounds they last and they last now did you think it all through all these things will catch up to you and time can heal but this will not so if you are coming my way just do not oh it is so sad to think about the good times you and i because baby now we have got bad blood you know it used to be mad love so take a look what you have done because baby now we have got bad blood hey now we have got problems and i do not think we can solve em you made a really deep cut and baby now we have got bad blood hey bandaids do not fix bullet holes you say sorry just for show if you live like that you live with ghosts bandaids do not fix bullet holes you say sorry just for show if you live like that you live with ghosts if you love like that blood runs cold because baby now we have got bad blood you know it used to be mad love so take a look what you have done because baby now we have got bad blood hey now we have got problems and i do not think we can solve em think we can solve em you made a really deep cut and baby now we have got bad blood hey because baby now we have got bad blood you know it used to be mad love so take a look what you have done look what you have done because baby now we have got bad blood hey now we have got problems and i do not think we can solve em you made a really deep cut and baby now we have got bad blood hey he said let is get out of this town drive out of the city away from the crowds i thought heaven can not help me now nothing lasts forever but this is gonna take me down he is so tall and handsome as hell he is so bad but he does it so well i can see the end as it begins my one condition is say you will remember me standing in a nice dress staring at the sunset babe red lips and rosy cheeks say you will see me again even if it is just in your wildest dreams ah ha wildest dreams ah ha i said no one has to know what we do his hands are in my hair his clothes are in my room and his voice is a familiar sound nothing lasts forever but this is getting good now he is so tall and handsome as hell he is so bad but he does it so well and when we have had our very last kiss my last request is say you will remember me standing in a nice dress staring at the sunset babe red lips and rosy cheeks say you will see me again even if it is just in your wildest dreams ah ha ha ha wildest dreams ah ha you will see me in hindsight tangled up with you all night burning it down someday when you leave me i bet these memories follow you around you will see me in hindsight tangled up with you all night burning burning it it down down someday when you leave me i bet these memories follow follow you you around follow you around say you will remember me standing in a nice dress staring at the sunset babe red lips and rosy cheeks say you will see me again even if it is just pretend say you will remember me standing in a nice dress staring at the sunset babe red lips and rosy cheeks say you will see me again even if it is just in your just pretend just pretend wildest dreams ah ha ah in your wildest dreams ah ha even if it is just in your in your wildest dreams ah ha in your wildest dreams ah ha oh oh oh oh oh oh ohoh ohoh stand there like a ghost shaking from the rain rain she will open up the door and say are you insane say it is been a long six months and you were too afraid to tell her what you want want and that is how it works that is how you get the girl and then you say i want you for worse or for better i would wait forever and ever broke your heart i will put it back together i would wait forever and ever and that is how it works that is how you get the girl girl ohoh oh and that is how it works that is how you get the girl girl remind her how it used to be be yeahyeah with pictures in frames of kisses on cheeks cheeks tell her how you must have lost your mind oohooh when you left her all alone and never told her why why and that is how it works that is how you lost the girl and now you say i want you for worse or for better i would wait forever and ever ever and ever broke your heart i will put it back together i would wait forever and ever and that is how it works that is how you get the girl girl ohoh ohoh and that is how it works that is how you get the girl girl yeah yeah and you know oh oh oh oh oh oh oh oh oh oh that i do not want you to go oh oh remind me how it used to be pictures in frames of kisses on cheeks and say you want me yeahyeah and then you say i want you for worse or for better\\xa0worse or for better i would wait forever and ever ever and ever broke your heart i will put it back together i want you forever and ever i would wait forever and ever and that is how it works that is how you get the girl girl this is how it works and that is how it works that is how you get the girl girl get the girl that is how it works and that is how it works that is how you get the girl girl oh oh oh oh oh oh oh oh oh oh and that is how it works that is how you get the girl girl oh oh oh oh oh oh oh oh oh oh and that is how it works that is how you got the girl clear blue water high tide came and brought you in and i could go on and on on and on and i will skies grew darker currents swept you out again and you were just gone and gone gone and gone in silent screams and wildest dreams i never dreamed of this this love is good this love is bad this love is alive back from the dead ohoh oh these hands had to let it go free and this love came back to me ohoh oh ohoh oh ohoh oh tossing turning struggled through the night with someone new and i could go on and on on and on lantern burning flickered in my mind only you but you were still gone gone gone been losing grip on sinking ships you showed up just in time this love is good this love is bad this love is alive back from the dead ohoh oh these hands had to let it go free and this love came back to me ohoh oh this love left a permanent mark this love is glowing in the dark ohoh oh these hands had to let it go free and this love came back to me ohoh oh this love this love this love this love oh this love this love this love this love oh this love this love this love this love oh this love this love this love this love oh your kiss my cheek i watched you leave your smile my ghost i fell to my knees when you are young you just run but you come back to what you need this love is good this love is bad this love is alive back from the dead ohoh oh these hands had to let it go free and this love came back to me ohoh oh this love this love left a permanent mark this love this love is glowing in the dark ohoh oh this love these hands had to let it go free and this love this love came back to me ohoh oh this love this love this love this love oh this love this love this love this love oh this love this love this love this love this love this love came back to me ohoh oh i i i ii i ii i ii i i you stand with your hand on my waistline it is a scene and we are out here in plain sight i can hear them whisper as we pass by it is a bad sign bad sign something happens when everybody finds out see the vultures circling dark clouds love is a fragile little flame it could burn out it could burn out because they got the cages they got the boxes and guns they are the hunters we are the foxes and we run baby i know places we will not be found and they will be chasing their tails trying to track us down because i i know places we can hide i know places i know places lights flash and we will run for the fences let them say what they want we will not hear it loose lips sink ships all the damn time not this time just grab my hand and do not ever drop it my love they are the hunters we are the foxes and we run baby i know places we will not be found and they will be chasing their tails trying to track us down because i i know places we can hide i know places they are the hunters we are the foxes and we run just grab my hand and do not ever drop it my love baby i know places we will not be found and they will be chasing their tails trying to track us down because i i know places we can hide i know places they take their shots but we are bulletproof i know places and you know for me it is always you i know places in the dead of night your eyes so green i know places and i know for you it is always me i know places i i i ii i ii the drought was the very worst ohoh ohoh when the flowers that we would grown together died of thirst it was months and months of back and forth ohoh ohoh you are still all over me like a winestained dress i can not wear anymore hung my head as i lost the war and the sky turned black like a perfect storm rain came pouring down when i was drowning that is when i could finally breathe and by morning gone was any trace of you i think i am finally clean oh oh oh oh there was nothing left to do ohoh ohoh when the butterflies turned to dust that covered my whole room so i punched a hole in the roof ohoh ohoh let the flood carry away all my pictures of you the water filled my lungs i screamed so loud but no one heard a thing rain came pouring down when i was drowning that is when i could finally breathe and by morning gone was any trace of you i think i am finally clean oh oh oh oh i think i am finally clean oh oh oh oh oh oh ohoh said i think i am finally clean oh oh oh oh oh oh ohoh ten months sober i must admit just because you are clean do not mean you do not miss it ten months older i will not give in now that i am clean i am never gonna risk it the drought was the very worst ohoh ohoh when the flowers that we would grown together died of thirst oh the rain came pouring down when i was drowning that is when i could finally breathe and by morning gone was any trace of you i think i am finally clean rain came pouring down when i was drowning that is when i could finally breathe and by morning gone was any trace of you i think i am finally clean oh oh finally clean think i am finally clean oh oh ohoh ohoh oh oh oh think i am finally clean flashing lights and we took a wrong turn and we fell down a rabbit hole you held on tight to me because nothing is as it seems and spinning out of control did not they tell us do not rush into things did not you flash your green eyes at me have not you heard what becomes of curious minds ooh did not it all seem new and exciting i felt your arms twisting around me i should have slept with one eye open at night we found wonderland you and i got lost in it and we pretended it could last forever eh eh we found wonderland you and i got lost in it and life was never worse but never better eh eh eh eh eh eh eh in wonderland eh eh eh eh eh in wonderland eh eh eh eh eh in wonderland eh eh eh eh eh in wonderland so we went on our way too in love to think straight all alone or so it seemed but there were strangers watching and whispers turned to talking and talking turned to screams oh did not they tell us do not rush into things did not you flash your green eyes at me did not you calm my fears with a cheshire cat smile ooh did not it all seem new and exciting i felt your arms twisting around me it is all fun and games until somebody loses their mind but darling we found wonderland you and i got lost in it and we pretended it could last forever eh eh we found wonderland you and i got lost in it and life was never worse but never better eh eh eh eh eh eh eh in wonderland eh eh eh eh eh in wonderland eh eh eh eh eh in wonderland eh eh eh eh eh whoa in wonderland i reached for you but you were gone i knew i had to go back home you searched the world for something else to make you feel like what we had and in the end in wonderland we both went mad oh we found wonderland you and i got lost in it and we pretended it could last forever last forever eh eh we found wonderland you and i got lost in it got lost in it and life was never worse but never better never better eh eh eh eh eh eh eh we found wonderland you and i got lost in it eh eh eh eh eh and we pretended it could last forever in wonderland eh eh eh eh eh we found wonderland you and i got lost in it eh eh eh eh eh and life was never worse but never better in wonderland one look dark room meant just for you time moved too fast you play it back buttons on a coat lighthearted joke no proof not much but you saw enough small talk he drives coffee at midnight the light reflects the chain on your neck he says look up and your shoulders brush no proof one touch but you felt enough you can hear it in the silence silence silence silence you you can feel it on the way home way home way home way home you you can see it with the lights out lights out lights out lights out you are in love true love you are in love morning his place burnt toast sunday you keep his shirt he keeps his word and for once you let go of your fears and your ghosts one step not much but it said enough you kiss on sidewalks you fight and you talk one night he wakes strange look on his face pauses then says you are my best friend and you knew what it was he is in love you can hear it in the silence silence silence silence you you can feel it on the way home way home way home way home you you can see it with the lights out lights out lights out lights out you are in love true love and so it goes you two are dancing in a snow globe around and around and he keeps a picture of you in his office downtown and you understand now why they lost their minds and fought the wars and why i have spent my whole life trying to put it into words because you can hear it in the silence you can feel it on the way home you can see it with the lights out you are in love true love you are in love you can hear it in the silence silence silence silence you you can feel it on the way home way home way home way home you you can see it with the lights out lights out lights out lights out you are in love true love you are in love you can hear it in the silence silence silence silence you you can feel it on the way home way home way home way home you you can see it with the lights out lights out lights out lights out you are in love true love you are in love we are all bored we are all so tired of everything we wait for trains that just are not coming we show off our different scarlet letters trust me mine is better we are so young but we are on the road to ruin we play dumb but we know exactly what we are doing we cry tears of mascara in the bathroom honey life is just a classroom ah ah ah ah ah ah because baby i could build a castle out of all the bricks they threw at me and every day is like a battle but every night with us is like a dream baby we are the new romantics come on come along with me heartbreak is the national anthem we sing it proudly we are too busy dancing to get knocked off our feet baby we are the new romantics the best people in life are free we are all here the lights and noise are blinding we hang back it is all in the timing it is poker he can not see it in my face but i am about to play my ace ahh we need love but all we want is danger we team up then switch sides like a record changer the rumors are terrible and cruel but honey most of them are true ah ah ah ah ah ah joeboy  isip alcohol official lyrics  meaning  verified because baby i could build a castle out of all the bricks they threw at me and every day is like a battle but every night with us is like a dream baby we are the new romantics come on come along with me heartbreak is the national anthem we sing it proudly we are too busy dancing yeah to get knocked off our feet baby we are the new romantics the best people in life are free oh oh ohoh oh ohoh oh oh ohoh oh so come on come along with me oh oh ohoh oh the best people in life are free oh oh ohoh oh please take my hand and please take me dancing and please leave me stranded it is so romantic it is so romantic ah ah ah ah ah ah oh because baby i could build a castle out of all the bricks they threw at me and every day is like a battle ohoh but every night with us is like a dream because baby i could build a castle castle out of all the bricks they threw at me and every day is like a battle but every night with us is like a dream baby we are the new romantics come on come along with me heartbreak is the national anthem we sing it proudly we are too busy dancing to get knocked off our feet baby we are the new romantics the best people in life are free'"
      ]
     },
     "execution_count": 237,
     "metadata": {},
     "output_type": "execute_result"
    }
   ],
   "source": [
    "# example\n",
    "ts1989_corpus"
   ]
  },
  {
   "cell_type": "markdown",
   "id": "f4891be6-fce2-4992-85c5-a8df04c9f0e1",
   "metadata": {},
   "source": [
    "# Sentiment Analysis"
   ]
  },
  {
   "cell_type": "markdown",
   "id": "d56a6234-d608-4034-9907-d84f4566ac3d",
   "metadata": {},
   "source": [
    "## to perform sentiment analysis, use the nlp1.2 kernel instead of TensorFlow2.7"
   ]
  },
  {
   "cell_type": "code",
   "execution_count": 239,
   "id": "5c0bd43b-a7ef-4e45-86f1-3f4700fe8a2f",
   "metadata": {},
   "outputs": [
    {
     "name": "stdout",
     "output_type": "stream",
     "text": [
      "ln: failed to create symbolic link ‘/home/juliabruner/.cache/huggingface/huggingface’: File exists\n"
     ]
    }
   ],
   "source": [
    "# symbolic link to the hugging face sentiment analysis model\n",
    "!ln -s /blue/zoo4926/share/huggingface/ ~/.cache/huggingface"
   ]
  },
  {
   "cell_type": "code",
   "execution_count": 240,
   "id": "b0a7aa33-7c75-4fcd-b1f5-213eb459a355",
   "metadata": {},
   "outputs": [],
   "source": [
    "# Uncomment and run when done with this notebook.\n",
    "#!rm ~/.cache/huggingface"
   ]
  },
  {
   "cell_type": "markdown",
   "id": "498a4767-e57b-4149-ab5f-07048a3e6782",
   "metadata": {},
   "source": [
    "## The corpuses are too large to run sentiment analysis on using this model"
   ]
  },
  {
   "cell_type": "code",
   "execution_count": 241,
   "id": "68c6a223-bf0f-4bb7-8729-c8a533fec06c",
   "metadata": {},
   "outputs": [
    {
     "ename": "ModuleNotFoundError",
     "evalue": "No module named 'transformers'",
     "output_type": "error",
     "traceback": [
      "\u001b[0;31m---------------------------------------------------------------------------\u001b[0m",
      "\u001b[0;31mModuleNotFoundError\u001b[0m                       Traceback (most recent call last)",
      "Input \u001b[0;32mIn [241]\u001b[0m, in \u001b[0;36m<cell line: 1>\u001b[0;34m()\u001b[0m\n\u001b[0;32m----> 1\u001b[0m \u001b[38;5;28;01mfrom\u001b[39;00m \u001b[38;5;21;01mtransformers\u001b[39;00m \u001b[38;5;28;01mimport\u001b[39;00m pipeline\n\u001b[1;32m      2\u001b[0m sentiment_analysis \u001b[38;5;241m=\u001b[39m pipeline(\u001b[38;5;124m\"\u001b[39m\u001b[38;5;124msentiment-analysis\u001b[39m\u001b[38;5;124m\"\u001b[39m,model\u001b[38;5;241m=\u001b[39m\u001b[38;5;124m\"\u001b[39m\u001b[38;5;124msiebert/sentiment-roberta-large-english\u001b[39m\u001b[38;5;124m\"\u001b[39m)\n",
      "\u001b[0;31mModuleNotFoundError\u001b[0m: No module named 'transformers'"
     ]
    }
   ],
   "source": [
    "from transformers import pipeline\n",
    "sentiment_analysis = pipeline(\"sentiment-analysis\",model=\"siebert/sentiment-roberta-large-english\")\n",
    "# sentiment_analysis(red_corpus)\n",
    "\n",
    "# The corpuses are too big to run sentiment analysis on, but hospital reviews would be smaller"
   ]
  },
  {
   "cell_type": "markdown",
   "id": "1e7bd18e-800e-4427-a2a3-e7490b686ac5",
   "metadata": {},
   "source": [
    "# Random Sentiment Analysis from Lover vs. Reputation"
   ]
  },
  {
   "cell_type": "code",
   "execution_count": 242,
   "id": "4b46d60b-9615-4175-a0eb-3b93bdac5d9c",
   "metadata": {},
   "outputs": [
    {
     "ename": "NameError",
     "evalue": "name 'sentiment_analysis' is not defined",
     "output_type": "error",
     "traceback": [
      "\u001b[0;31m---------------------------------------------------------------------------\u001b[0m",
      "\u001b[0;31mNameError\u001b[0m                                 Traceback (most recent call last)",
      "Input \u001b[0;32mIn [242]\u001b[0m, in \u001b[0;36m<cell line: 14>\u001b[0;34m()\u001b[0m\n\u001b[1;32m     13\u001b[0m lover_reslults \u001b[38;5;241m=\u001b[39m \u001b[38;5;28mlist\u001b[39m()\n\u001b[1;32m     14\u001b[0m \u001b[38;5;28;01mfor\u001b[39;00m i \u001b[38;5;129;01min\u001b[39;00m randomlist:\n\u001b[0;32m---> 15\u001b[0m     result \u001b[38;5;241m=\u001b[39m \u001b[43msentiment_analysis\u001b[49m(lover_lines[i])\n\u001b[1;32m     16\u001b[0m     \u001b[38;5;28mprint\u001b[39m(result)\n",
      "\u001b[0;31mNameError\u001b[0m: name 'sentiment_analysis' is not defined"
     ]
    }
   ],
   "source": [
    "# Lover\n",
    "\n",
    "import textwrap\n",
    "lover_lines = textwrap.wrap(lover_corpus, 514, break_long_words=False)\n",
    "\n",
    "import random\n",
    "randomlist = []\n",
    "for i in range(0,5):\n",
    "    n = random.randint(0, 66)\n",
    "    randomlist.append(n)\n",
    "randomlist\n",
    "\n",
    "lover_reslults = list()\n",
    "for i in randomlist:\n",
    "    result = sentiment_analysis(lover_lines[i])\n",
    "    print(result)"
   ]
  },
  {
   "cell_type": "code",
   "execution_count": 243,
   "id": "df547ade-1514-418a-9165-54136e6fcd87",
   "metadata": {},
   "outputs": [
    {
     "ename": "NameError",
     "evalue": "name 'sentiment_analysis' is not defined",
     "output_type": "error",
     "traceback": [
      "\u001b[0;31m---------------------------------------------------------------------------\u001b[0m",
      "\u001b[0;31mNameError\u001b[0m                                 Traceback (most recent call last)",
      "Input \u001b[0;32mIn [243]\u001b[0m, in \u001b[0;36m<cell line: 14>\u001b[0;34m()\u001b[0m\n\u001b[1;32m     13\u001b[0m reputation_reslults \u001b[38;5;241m=\u001b[39m \u001b[38;5;28mlist\u001b[39m()\n\u001b[1;32m     14\u001b[0m \u001b[38;5;28;01mfor\u001b[39;00m i \u001b[38;5;129;01min\u001b[39;00m randomlist:\n\u001b[0;32m---> 15\u001b[0m     result \u001b[38;5;241m=\u001b[39m \u001b[43msentiment_analysis\u001b[49m(reputation_lines[i])\n\u001b[1;32m     16\u001b[0m     \u001b[38;5;28mprint\u001b[39m(result)\n",
      "\u001b[0;31mNameError\u001b[0m: name 'sentiment_analysis' is not defined"
     ]
    }
   ],
   "source": [
    "# Reputation\n",
    "\n",
    "import textwrap\n",
    "reputation_lines = textwrap.wrap(reputation_corpus, 514, break_long_words=False)\n",
    "\n",
    "import random\n",
    "randomlist = []\n",
    "for i in range(0,5):\n",
    "    n = random.randint(0, 69)\n",
    "    randomlist.append(n)\n",
    "randomlist\n",
    "\n",
    "reputation_reslults = list()\n",
    "for i in randomlist:\n",
    "    result = sentiment_analysis(reputation_lines[i])\n",
    "    print(result)"
   ]
  },
  {
   "cell_type": "markdown",
   "id": "71659eef-c486-4714-83cb-ed008dcc0f92",
   "metadata": {},
   "source": [
    "# Sentiment Analysis by Song"
   ]
  },
  {
   "cell_type": "code",
   "execution_count": 244,
   "id": "c8104504-678b-446d-a4a1-f7a20b74920b",
   "metadata": {},
   "outputs": [
    {
     "data": {
      "text/plain": [
       "'we are all bored we are all so tired of everything we wait for trains that just are not coming we show off our different scarlet letters trust me mine is better we are so young but we are on the road to ruin we play dumb but we know exactly what we are doing we cry tears of mascara in the bathroom honey life is just a classroom ah ah ah ah ah ah because baby i could build a castle out of all the bricks they threw at me and every day is like a battle but every night with us is like a dream baby we are the new romantics come on come along with me heartbreak is the national anthem we sing it proudly we are too busy dancing to get knocked off our feet baby we are the new romantics the best people in life are free we are all here the lights and noise are blinding we hang back it is all in the timing it is poker he can not see it in my face but i am about to play my ace ahh we need love but all we want is danger we team up then switch sides like a record changer the rumors are terrible and cruel but honey most of them are true ah ah ah ah ah ah joeboy  isip alcohol official lyrics  meaning  verified because baby i could build a castle out of all the bricks they threw at me and every day is like a battle but every night with us is like a dream baby we are the new romantics come on come along with me heartbreak is the national anthem we sing it proudly we are too busy dancing yeah to get knocked off our feet baby we are the new romantics the best people in life are free oh oh ohoh oh ohoh oh oh ohoh oh so come on come along with me oh oh ohoh oh the best people in life are free oh oh ohoh oh please take my hand and please take me dancing and please leave me stranded it is so romantic it is so romantic ah ah ah ah ah ah oh because baby i could build a castle out of all the bricks they threw at me and every day is like a battle ohoh but every night with us is like a dream because baby i could build a castle castle out of all the bricks they threw at me and every day is like a battle but every night with us is like a dream baby we are the new romantics come on come along with me heartbreak is the national anthem we sing it proudly we are too busy dancing to get knocked off our feet baby we are the new romantics the best people in life are free'"
      ]
     },
     "execution_count": 244,
     "metadata": {},
     "output_type": "execute_result"
    }
   ],
   "source": [
    "NewRomantics_df=taylor.loc[taylor['track_title'] == 'New Romantics', 'lyric']\n",
    "NewRomantics_df\n",
    "NewRomantics_corpus = ' '.join(NewRomantics_df[:])\n",
    "\n",
    "NewRomantics_corpus = NewRomantics_corpus.lower()\n",
    "NewRomantics_corpus = decontracted(NewRomantics_corpus)\n",
    "NewRomantics_corpus = rid_punctuation(NewRomantics_corpus)\n",
    "NewRomantics_corpus\n"
   ]
  },
  {
   "cell_type": "code",
   "execution_count": 245,
   "id": "2dee3c66-8cdc-4cc8-b258-435081ca4d51",
   "metadata": {},
   "outputs": [
    {
     "ename": "NameError",
     "evalue": "name 'sentiment_analysis' is not defined",
     "output_type": "error",
     "traceback": [
      "\u001b[0;31m---------------------------------------------------------------------------\u001b[0m",
      "\u001b[0;31mNameError\u001b[0m                                 Traceback (most recent call last)",
      "Input \u001b[0;32mIn [245]\u001b[0m, in \u001b[0;36m<cell line: 1>\u001b[0;34m()\u001b[0m\n\u001b[0;32m----> 1\u001b[0m \u001b[43msentiment_analysis\u001b[49m(NewRomantics_corpus)\n",
      "\u001b[0;31mNameError\u001b[0m: name 'sentiment_analysis' is not defined"
     ]
    }
   ],
   "source": [
    "sentiment_analysis(NewRomantics_corpus)"
   ]
  },
  {
   "cell_type": "code",
   "execution_count": 246,
   "id": "a75092e9-2e09-4a23-bb67-39779b3f52fd",
   "metadata": {},
   "outputs": [
    {
     "data": {
      "text/plain": [
       "'i walked through the door with you the air was cold but something about it felt like home somehow and i left my scarf there at your sister is house and you have still got it in your drawer even now oh your sweet disposition and my wideeyed gaze we are singing in the car getting lost upstate autumn leaves falling down like pieces into place and i can picture it after all these days and i know it is long gone and that magic is not here no more and i might be okay but i am not fine at all oh oh oh because there we are again on that little town street you almost ran the red because you were looking over at me wind in my hair i was there i remember it all too well photo album on the counter your cheeks were turning red you used to be a little kid with glasses in a twinsized bed and your mother is telling stories about you on the teeball team you tell me about your past thinking your future was me and i know it is long gone and there was nothing else i could do and i forget about you long enough to forget why i needed to because there we are again in the middle of the night we are dancing round the kitchen in the refrigerator light down the stairs i was there i remember it all too well yeah maybe we got lost in translation maybe i asked for too much but maybe this thing was a masterpiece until you tore it all up running scared i was there i remember it all too well and you call me up again just to break me like a promise so casually cruel in the name of being honest i am a crumpled up piece of paper lying here because i remember it all all all too well time will not fly it is like i am paralyzed by it i would like to be my old self again but i am still trying to find it after plaid shirt days and nights when you made me your own now you mail back my things and i walk home alone but you keep my old scarf from that very first week because it reminds you of innocence and it smells like me you can not get rid of it because you remember it all too well yeah because there we are again when i loved you so back before you lost the one real thing you have ever known it was rare i was there i remember it all too well wind in my hair you were there you remember it all down the stairs you were there you remember it all it was rare i was there i remember it all too well'"
      ]
     },
     "execution_count": 246,
     "metadata": {},
     "output_type": "execute_result"
    }
   ],
   "source": [
    "ATW_df=taylor.loc[taylor['track_title'] == 'All Too Well', 'lyric']\n",
    "ATW_df\n",
    "ATW_corpus = ' '.join(ATW_df[:])\n",
    "\n",
    "ATW_corpus = ATW_corpus.lower()\n",
    "ATW_corpus = decontracted(ATW_corpus)\n",
    "ATW_corpus = rid_punctuation(ATW_corpus)\n",
    "ATW_corpus\n"
   ]
  },
  {
   "cell_type": "code",
   "execution_count": 247,
   "id": "b58ead85-7601-48fb-94e1-f5ffcdd869b0",
   "metadata": {},
   "outputs": [
    {
     "ename": "NameError",
     "evalue": "name 'sentiment_analysis' is not defined",
     "output_type": "error",
     "traceback": [
      "\u001b[0;31m---------------------------------------------------------------------------\u001b[0m",
      "\u001b[0;31mNameError\u001b[0m                                 Traceback (most recent call last)",
      "Input \u001b[0;32mIn [247]\u001b[0m, in \u001b[0;36m<cell line: 1>\u001b[0;34m()\u001b[0m\n\u001b[0;32m----> 1\u001b[0m \u001b[43msentiment_analysis\u001b[49m(ATW_corpus)\n",
      "\u001b[0;31mNameError\u001b[0m: name 'sentiment_analysis' is not defined"
     ]
    }
   ],
   "source": [
    "sentiment_analysis(ATW_corpus)"
   ]
  },
  {
   "cell_type": "code",
   "execution_count": 248,
   "id": "2b329278-2cd2-49b2-903d-15217b6ba71a",
   "metadata": {},
   "outputs": [
    {
     "ename": "NameError",
     "evalue": "name 'sentiment_analysis' is not defined",
     "output_type": "error",
     "traceback": [
      "\u001b[0;31m---------------------------------------------------------------------------\u001b[0m",
      "\u001b[0;31mNameError\u001b[0m                                 Traceback (most recent call last)",
      "Input \u001b[0;32mIn [248]\u001b[0m, in \u001b[0;36m<cell line: 3>\u001b[0;34m()\u001b[0m\n\u001b[1;32m      1\u001b[0m \u001b[38;5;66;03m# Sentiment Analysis by Passed Lyric \u001b[39;00m\n\u001b[0;32m----> 3\u001b[0m \u001b[43msentiment_analysis\u001b[49m(\u001b[38;5;124m'\u001b[39m\u001b[38;5;124mi am on the bleachers dreaming about the day when you wake up and find that what you are looking for has been here the whole time\u001b[39m\u001b[38;5;124m'\u001b[39m)\n",
      "\u001b[0;31mNameError\u001b[0m: name 'sentiment_analysis' is not defined"
     ]
    }
   ],
   "source": [
    "# Sentiment Analysis by Passed Lyric \n",
    "\n",
    "sentiment_analysis('i am on the bleachers dreaming about the day when you wake up and find that what you are looking for has been here the whole time')"
   ]
  },
  {
   "cell_type": "markdown",
   "id": "7819ab82-ff29-49a8-b4a0-6577efb15f54",
   "metadata": {},
   "source": [
    "# Introducing the eras"
   ]
  },
  {
   "cell_type": "markdown",
   "id": "21c5463a-fb1d-43b6-9711-1ec4f81ef2ed",
   "metadata": {},
   "source": [
    "### REPUTATION ERA"
   ]
  },
  {
   "cell_type": "code",
   "execution_count": 249,
   "id": "54a63fdd-ecc3-4ffe-9609-f2a17e0e852a",
   "metadata": {},
   "outputs": [
    {
     "data": {
      "text/plain": [
       "<matplotlib.image.AxesImage at 0x2b8243bbdfd0>"
      ]
     },
     "execution_count": 249,
     "metadata": {},
     "output_type": "execute_result"
    },
    {
     "data": {
      "image/png": "[encoded data removed]",
      "text/plain": [
       "<Figure size 432x288 with 1 Axes>"
      ]
     },
     "metadata": {
      "needs_background": "light"
     },
     "output_type": "display_data"
    }
   ],
   "source": [
    "import matplotlib.image as mpimg\n",
    "import matplotlib.pyplot as plt\n",
    "%matplotlib inline\n",
    "\n",
    "rep_PATH = '/blue/zoo4926/juliabruner/Taylor_img/tsRep_image.jpeg'\n",
    "image = mpimg.imread(rep_PATH)\n",
    "plt.imshow(image)"
   ]
  },
  {
   "cell_type": "markdown",
   "id": "92ca8f18-3d95-4f5b-b067-bf01b40959aa",
   "metadata": {},
   "source": [
    "### LOVER ERA"
   ]
  },
  {
   "cell_type": "code",
   "execution_count": 250,
   "id": "b2250430-6b08-45cc-bfb9-931a9fd33e7f",
   "metadata": {},
   "outputs": [
    {
     "data": {
      "text/plain": [
       "<matplotlib.image.AxesImage at 0x2b817f8d0310>"
      ]
     },
     "execution_count": 250,
     "metadata": {},
     "output_type": "execute_result"
    },
    {
     "data": {
      "image/png": "[encoded data removed]",
      "text/plain": [
       "<Figure size 432x288 with 1 Axes>"
      ]
     },
     "metadata": {
      "needs_background": "light"
     },
     "output_type": "display_data"
    }
   ],
   "source": [
    "lover_PATH = '/blue/zoo4926/juliabruner/Taylor_img/tsLover_img.webp'\n",
    "image = mpimg.imread(lover_PATH)\n",
    "plt.imshow(image)\n"
   ]
  },
  {
   "cell_type": "markdown",
   "id": "04915b10-c5ea-4740-8c36-0f06ce82e1d8",
   "metadata": {},
   "source": [
    "### FOLKLORE / EVERMORE ERA"
   ]
  },
  {
   "cell_type": "code",
   "execution_count": 251,
   "id": "5d441e9a-357a-43e8-a6ea-deafb336f5ed",
   "metadata": {},
   "outputs": [
    {
     "data": {
      "text/plain": [
       "<matplotlib.image.AxesImage at 0x2b8187676580>"
      ]
     },
     "execution_count": 251,
     "metadata": {},
     "output_type": "execute_result"
    },
    {
     "data": {
      "image/png": "[encoded data removed]",
      "text/plain": [
       "<Figure size 432x288 with 1 Axes>"
      ]
     },
     "metadata": {
      "needs_background": "light"
     },
     "output_type": "display_data"
    }
   ],
   "source": [
    "FE_PATH = '/blue/zoo4926/juliabruner/Taylor_img/tsFolkEver_img.jpeg'\n",
    "image = mpimg.imread(FE_PATH)\n",
    "plt.imshow(image)"
   ]
  },
  {
   "cell_type": "markdown",
   "id": "0086af02-f350-4223-9325-f8c2e2d28ae4",
   "metadata": {},
   "source": [
    "# LSTM Model for Text Generation"
   ]
  },
  {
   "cell_type": "code",
   "execution_count": 252,
   "id": "8c1dcb17-8d01-446e-b63b-37fbb46604e2",
   "metadata": {},
   "outputs": [],
   "source": [
    "# import the necessary packages\n",
    "import numpy as np\n",
    "from tensorflow.keras.models import Sequential\n",
    "from tensorflow.keras.layers import Dense\n",
    "from tensorflow.keras.layers import LSTM\n",
    "from tensorflow.keras.layers import Embedding\n",
    "from tensorflow.keras.preprocessing.text import Tokenizer\n",
    "from tensorflow.keras.preprocessing.text \\\n",
    "    import text_to_word_sequence\n",
    "import tensorflow as tf\n",
    "import logging\n",
    "tf.get_logger().setLevel(logging.ERROR)"
   ]
  },
  {
   "cell_type": "code",
   "execution_count": 253,
   "id": "0af04a8c-2d21-4239-bb47-b2aab5e4ccf2",
   "metadata": {},
   "outputs": [],
   "source": [
    "# DEFINE VARIABLES\n",
    "EPOCHS = 50\n",
    "BATCH_SIZE = 256\n",
    "# INPUT_FILE_NAME = ____\n",
    "WINDOW_LENGTH = 10\n",
    "WINDOW_STEP = 1\n",
    "PREDICT_LENGTH = 3\n",
    "MAX_WORDS = 25000\n",
    "EMBEDDING_WIDTH = 250"
   ]
  },
  {
   "cell_type": "markdown",
   "id": "2021b250-f759-4683-8331-e7453c65a9f2",
   "metadata": {},
   "source": [
    "# TOKENIZATION"
   ]
  },
  {
   "cell_type": "code",
   "execution_count": 265,
   "id": "eaa9ac3d-d322-4f11-9e94-c6a276d3c7ad",
   "metadata": {},
   "outputs": [],
   "source": [
    "# SPLITTING CORPUSES FOR EACH ERA \n",
    "rep = reputation_corpus.split(' ') # This has it splitting by word now, not character, TOKENIZER NOT WORKING PROPERLY\n",
    "remove1 = 'official'\n",
    "remove2 = 'lyrics'\n",
    "remove3 = 'joeboy'\n",
    "remove4 = 'a'\n",
    "remove5 = 'i'\n",
    "remove6 = 'verified'\n",
    "while remove1 in rep: rep.remove(remove1)  \n",
    "while remove2 in rep: rep.remove(remove2)  \n",
    "while remove3 in rep: rep.remove(remove3)  \n",
    "while remove4 in rep: rep.remove(remove4)  \n",
    "while remove5 in rep: rep.remove(remove5)  \n",
    "while remove5 in rep: rep.remove(remove5) \n",
    "while remove6 in rep: rep.remove(remove6) \n",
    "\n",
    "fe_corpus = folklore_corpus + ' ' + evermore_corpus\n",
    "fe = fe_corpus.split(' ')"
   ]
  },
  {
   "cell_type": "code",
   "execution_count": 266,
   "id": "2b5ff74a-4620-4cdd-832f-29cfa23c3a81",
   "metadata": {},
   "outputs": [],
   "source": [
    "# Reputation Training Data\n",
    "rep_fragments = []\n",
    "rep_targets = []\n",
    "for i in range(0, len(rep) - WINDOW_LENGTH, WINDOW_STEP):\n",
    "    rep_fragments.append(rep[i: i + WINDOW_LENGTH])\n",
    "    rep_targets.append(rep[i + WINDOW_LENGTH])\n",
    "    \n",
    "# Lover Training Data\n",
    "lover_fragments = []\n",
    "lover_targets = []\n",
    "for i in range(0, len(lover) - WINDOW_LENGTH, WINDOW_STEP):\n",
    "    lover_fragments.append(lover[i: i + WINDOW_LENGTH])\n",
    "    lover_targets.append(lover[i + WINDOW_LENGTH])\n",
    "    \n",
    "# Folklore/Evermore Training Data\n",
    "fe_fragments = []\n",
    "fe_targets = []\n",
    "for i in range(0, len(fe) - WINDOW_LENGTH, WINDOW_STEP):\n",
    "    fe_fragments.append(fe[i: i + WINDOW_LENGTH])\n",
    "    fe_targets.append(fe[i + WINDOW_LENGTH])\n",
    "    "
   ]
  },
  {
   "cell_type": "code",
   "execution_count": 267,
   "id": "0c1e29d1-5c9d-4476-9a51-26f250a64d1a",
   "metadata": {},
   "outputs": [
    {
     "name": "stdout",
     "output_type": "stream",
     "text": [
      "7074\n",
      "7074\n",
      "7209\n",
      "7209\n",
      "11643\n",
      "11643\n"
     ]
    }
   ],
   "source": [
    "# Checking that input sequence length matches number of targets\n",
    "\n",
    "# Reputation\n",
    "print(len(rep_fragments))\n",
    "print(len(rep_targets))\n",
    "\n",
    "# Lover\n",
    "print(len(lover_fragments))\n",
    "print(len(lover_targets))\n",
    "\n",
    "# Folklore/Evermore\n",
    "print(len(fe_fragments))\n",
    "print(len(fe_targets))"
   ]
  },
  {
   "cell_type": "markdown",
   "id": "9f76f293-88fa-48b0-949c-d055eeb0dec1",
   "metadata": {},
   "source": [
    "## Tokens -> Indicies"
   ]
  },
  {
   "cell_type": "code",
   "execution_count": 268,
   "id": "3aa8d520-13f3-4d42-8f08-bc77721a8ef3",
   "metadata": {},
   "outputs": [],
   "source": [
    "# Convert to indices\n",
    "\n",
    "# Reputation\n",
    "tokenizer = Tokenizer(num_words=MAX_WORDS, oov_token='UNK')\n",
    "tokenizer.fit_on_texts(rep)\n",
    "rep_fragments_indexed = tokenizer.texts_to_sequences(rep_fragments)\n",
    "rep_targets_indexed = tokenizer.texts_to_sequences(rep_targets)\n",
    "\n",
    "# Lover\n",
    "tokenizer = Tokenizer(num_words=MAX_WORDS, oov_token='UNK')\n",
    "tokenizer.fit_on_texts(lover)\n",
    "lover_fragments_indexed = tokenizer.texts_to_sequences(lover_fragments)\n",
    "lover_targets_indexed = tokenizer.texts_to_sequences(lover_targets)\n",
    "\n",
    "# Folklore/Evermore\n",
    "tokenizer = Tokenizer(num_words=MAX_WORDS, oov_token='UNK')\n",
    "tokenizer.fit_on_texts(fe)\n",
    "fe_fragments_indexed = tokenizer.texts_to_sequences(fe_fragments)\n",
    "fe_targets_indexed = tokenizer.texts_to_sequences(fe_targets)\n"
   ]
  },
  {
   "cell_type": "markdown",
   "id": "3f750471-abfb-47e1-8081-46b440b066be",
   "metadata": {},
   "source": [
    "## Format for LSTM input/output (np.array)"
   ]
  },
  {
   "cell_type": "code",
   "execution_count": 269,
   "id": "a8700bf7-122a-429e-a80e-e5ef93f1fd69",
   "metadata": {},
   "outputs": [],
   "source": [
    "# Convert to appropriate input and output formats\n",
    "\n",
    "# Reputation\n",
    "X_rep = np.array(rep_fragments_indexed, dtype=np.int64)\n",
    "y_rep = np.zeros((len(rep_targets_indexed), MAX_WORDS))\n",
    "for i, target_index in enumerate(rep_targets_indexed):\n",
    "    y_rep[i, target_index] = 1\n",
    "    \n",
    "    \n",
    "# Lover\n",
    "X_lover = np.array(lover_fragments_indexed, dtype=np.int64)\n",
    "y_lover = np.zeros((len(lover_targets_indexed), MAX_WORDS))\n",
    "for i, target_index in enumerate(lover_targets_indexed):\n",
    "    y_lover[i, target_index] = 1\n",
    "\n",
    "\n",
    "# Folklore/Evermore\n",
    "X_fe = np.array(fe_fragments_indexed, dtype=np.int64)\n",
    "y_fe = np.zeros((len(fe_targets_indexed), MAX_WORDS))\n",
    "for i, target_index in enumerate(fe_targets_indexed):\n",
    "    y_fe[i, target_index] = 1"
   ]
  },
  {
   "cell_type": "markdown",
   "id": "10a53c7b-53dc-4331-9976-4e7c99d50279",
   "metadata": {},
   "source": [
    "## Checking Tokenization & Input Sequences Format"
   ]
  },
  {
   "cell_type": "code",
   "execution_count": 270,
   "id": "85583dca-1986-4f57-8a74-2946e95341e8",
   "metadata": {},
   "outputs": [
    {
     "name": "stdout",
     "output_type": "stream",
     "text": [
      "Fragment: ['he', 'had', 'loved', 'and', 'left', 'haunted', 'but', 'if', 'he', 'is']\n",
      "Target: ghost\n",
      "\n",
      "Total fragments: 7074\n",
      "Fragment: ['wrong', 'wrong', 'lived', 'in', 'the', 'shade', 'you', 'were', 'throwing', 'until']\n",
      "Target: all\n",
      "\n",
      "Total fragments: 7209\n",
      "Fragment: ['instead', 'of', 'no', 'i', 'thought', 'i', 'saw', 'you', 'at', 'the']\n",
      "Target: bus\n",
      "\n",
      "Total fragments: 11643\n"
     ]
    }
   ],
   "source": [
    "# Used the number 13 randomly, 13 is TS's lucky number\n",
    "\n",
    "# Reputation\n",
    "print(f'Fragment: {rep_fragments[13]}\\nTarget: {rep_targets[13]}')\n",
    "print(f'\\nTotal fragments: {len(rep_fragments)}')\n",
    "    \n",
    "    \n",
    "# Lover\n",
    "print(f'Fragment: {lover_fragments[13]}\\nTarget: {lover_targets[13]}')\n",
    "print(f'\\nTotal fragments: {len(lover_fragments)}')\n",
    "    \n",
    "\n",
    "# Folklore/Evermore\n",
    "print(f'Fragment: {fe_fragments[13]}\\nTarget: {fe_targets[13]}')\n",
    "print(f'\\nTotal fragments: {len(fe_fragments)}')\n",
    "    "
   ]
  },
  {
   "cell_type": "markdown",
   "id": "cbec3501-30a9-471c-8d17-2d0bdd376df5",
   "metadata": {},
   "source": [
    "## Creating Training Models"
   ]
  },
  {
   "cell_type": "code",
   "execution_count": 271,
   "id": "9635c203-2891-4fb3-bcdc-151170e82a7c",
   "metadata": {},
   "outputs": [
    {
     "name": "stdout",
     "output_type": "stream",
     "text": [
      "Model: \"sequential_34\"\n",
      "_________________________________________________________________\n",
      " Layer (type)                Output Shape              Param #   \n",
      "=================================================================\n",
      " embedding_34 (Embedding)    (None, None, 250)         6250000   \n",
      "                                                                 \n",
      " lstm_68 (LSTM)              (None, None, 128)         194048    \n",
      "                                                                 \n",
      " lstm_69 (LSTM)              (None, 128)               131584    \n",
      "                                                                 \n",
      " dense_68 (Dense)            (None, 128)               16512     \n",
      "                                                                 \n",
      " dense_69 (Dense)            (None, 25000)             3225000   \n",
      "                                                                 \n",
      "=================================================================\n",
      "Total params: 9,817,144\n",
      "Trainable params: 9,817,144\n",
      "Non-trainable params: 0\n",
      "_________________________________________________________________\n",
      "Epoch 1/50\n",
      "27/27 - 5s - loss: 8.6812 - val_loss: 8.0928 - 5s/epoch - 181ms/step\n",
      "Epoch 2/50\n",
      "27/27 - 2s - loss: 5.7965 - val_loss: 7.3259 - 2s/epoch - 65ms/step\n",
      "Epoch 3/50\n",
      "27/27 - 2s - loss: 5.5645 - val_loss: 7.3334 - 2s/epoch - 64ms/step\n",
      "Epoch 4/50\n",
      "27/27 - 2s - loss: 5.5296 - val_loss: 7.4238 - 2s/epoch - 63ms/step\n",
      "Epoch 5/50\n",
      "27/27 - 2s - loss: 5.5158 - val_loss: 7.5159 - 2s/epoch - 63ms/step\n",
      "Epoch 6/50\n",
      "27/27 - 2s - loss: 5.5146 - val_loss: 7.4704 - 2s/epoch - 64ms/step\n",
      "Epoch 7/50\n",
      "27/27 - 2s - loss: 5.5080 - val_loss: 7.5040 - 2s/epoch - 64ms/step\n",
      "Epoch 8/50\n",
      "27/27 - 2s - loss: 5.5089 - val_loss: 7.5422 - 2s/epoch - 64ms/step\n",
      "Epoch 9/50\n",
      "27/27 - 2s - loss: 5.5053 - val_loss: 7.5025 - 2s/epoch - 64ms/step\n",
      "Epoch 10/50\n",
      "27/27 - 2s - loss: 5.5011 - val_loss: 7.5254 - 2s/epoch - 64ms/step\n",
      "Epoch 11/50\n",
      "27/27 - 2s - loss: 5.5013 - val_loss: 7.5153 - 2s/epoch - 63ms/step\n",
      "Epoch 12/50\n",
      "27/27 - 2s - loss: 5.4952 - val_loss: 7.6215 - 2s/epoch - 63ms/step\n",
      "Epoch 13/50\n",
      "27/27 - 2s - loss: 5.4933 - val_loss: 7.6705 - 2s/epoch - 63ms/step\n",
      "Epoch 14/50\n",
      "27/27 - 2s - loss: 5.4933 - val_loss: 7.5819 - 2s/epoch - 63ms/step\n",
      "Epoch 15/50\n",
      "27/27 - 2s - loss: 5.4875 - val_loss: 7.5555 - 2s/epoch - 63ms/step\n",
      "Epoch 16/50\n",
      "27/27 - 2s - loss: 5.4653 - val_loss: 7.4538 - 2s/epoch - 63ms/step\n",
      "Epoch 17/50\n",
      "27/27 - 2s - loss: 5.3990 - val_loss: 7.4690 - 2s/epoch - 63ms/step\n",
      "Epoch 18/50\n",
      "27/27 - 2s - loss: 5.3293 - val_loss: 7.5311 - 2s/epoch - 64ms/step\n",
      "Epoch 19/50\n",
      "27/27 - 2s - loss: 5.2919 - val_loss: 7.5936 - 2s/epoch - 64ms/step\n",
      "Epoch 20/50\n",
      "27/27 - 2s - loss: 5.2520 - val_loss: 7.7390 - 2s/epoch - 64ms/step\n",
      "Epoch 21/50\n",
      "27/27 - 2s - loss: 5.2028 - val_loss: 7.8436 - 2s/epoch - 64ms/step\n",
      "Epoch 22/50\n",
      "27/27 - 2s - loss: 5.1425 - val_loss: 8.1325 - 2s/epoch - 64ms/step\n",
      "Epoch 23/50\n",
      "27/27 - 2s - loss: 5.0834 - val_loss: 8.0227 - 2s/epoch - 64ms/step\n",
      "Epoch 24/50\n",
      "27/27 - 2s - loss: 5.0104 - val_loss: 8.0036 - 2s/epoch - 64ms/step\n",
      "Epoch 25/50\n",
      "27/27 - 2s - loss: 4.9522 - val_loss: 8.2127 - 2s/epoch - 64ms/step\n",
      "Epoch 26/50\n",
      "27/27 - 2s - loss: 4.8623 - val_loss: 8.4478 - 2s/epoch - 64ms/step\n",
      "Epoch 27/50\n",
      "27/27 - 2s - loss: 4.7716 - val_loss: 8.7030 - 2s/epoch - 64ms/step\n",
      "Epoch 28/50\n",
      "27/27 - 2s - loss: 4.7163 - val_loss: 8.7385 - 2s/epoch - 65ms/step\n",
      "Epoch 29/50\n",
      "27/27 - 2s - loss: 4.6460 - val_loss: 8.9898 - 2s/epoch - 64ms/step\n",
      "Epoch 30/50\n",
      "27/27 - 2s - loss: 4.5912 - val_loss: 9.0515 - 2s/epoch - 64ms/step\n",
      "Epoch 31/50\n",
      "27/27 - 2s - loss: 4.5424 - val_loss: 9.0989 - 2s/epoch - 64ms/step\n",
      "Epoch 32/50\n",
      "27/27 - 2s - loss: 4.4886 - val_loss: 9.2955 - 2s/epoch - 63ms/step\n",
      "Epoch 33/50\n",
      "27/27 - 2s - loss: 4.4428 - val_loss: 9.3070 - 2s/epoch - 63ms/step\n",
      "Epoch 34/50\n",
      "27/27 - 2s - loss: 4.3946 - val_loss: 9.4412 - 2s/epoch - 64ms/step\n",
      "Epoch 35/50\n",
      "27/27 - 2s - loss: 4.3521 - val_loss: 9.4932 - 2s/epoch - 64ms/step\n",
      "Epoch 36/50\n",
      "27/27 - 2s - loss: 4.3142 - val_loss: 9.6296 - 2s/epoch - 64ms/step\n",
      "Epoch 37/50\n",
      "27/27 - 2s - loss: 4.2696 - val_loss: 9.6770 - 2s/epoch - 64ms/step\n",
      "Epoch 38/50\n",
      "27/27 - 2s - loss: 4.2375 - val_loss: 9.8527 - 2s/epoch - 64ms/step\n",
      "Epoch 39/50\n",
      "27/27 - 2s - loss: 4.1999 - val_loss: 9.9396 - 2s/epoch - 64ms/step\n",
      "Epoch 40/50\n",
      "27/27 - 2s - loss: 4.1603 - val_loss: 10.0660 - 2s/epoch - 64ms/step\n",
      "Epoch 41/50\n",
      "27/27 - 2s - loss: 4.1084 - val_loss: 10.1003 - 2s/epoch - 64ms/step\n",
      "Epoch 42/50\n",
      "27/27 - 2s - loss: 4.0570 - val_loss: 10.2431 - 2s/epoch - 64ms/step\n",
      "Epoch 43/50\n",
      "27/27 - 2s - loss: 4.0179 - val_loss: 10.4381 - 2s/epoch - 64ms/step\n",
      "Epoch 44/50\n",
      "27/27 - 2s - loss: 3.9639 - val_loss: 10.5130 - 2s/epoch - 64ms/step\n",
      "Epoch 45/50\n",
      "27/27 - 2s - loss: 3.9261 - val_loss: 10.5379 - 2s/epoch - 64ms/step\n",
      "Epoch 46/50\n",
      "27/27 - 2s - loss: 3.8784 - val_loss: 10.7643 - 2s/epoch - 65ms/step\n",
      "Epoch 47/50\n",
      "27/27 - 2s - loss: 3.8362 - val_loss: 10.9239 - 2s/epoch - 64ms/step\n",
      "Epoch 48/50\n",
      "27/27 - 2s - loss: 3.7866 - val_loss: 10.8836 - 2s/epoch - 64ms/step\n",
      "Epoch 49/50\n",
      "27/27 - 2s - loss: 3.7458 - val_loss: 11.0208 - 2s/epoch - 64ms/step\n",
      "Epoch 50/50\n",
      "27/27 - 2s - loss: 3.6950 - val_loss: 11.0601 - 2s/epoch - 64ms/step\n"
     ]
    }
   ],
   "source": [
    "# Reputation LSTM\n",
    "\n",
    "rep_training_model = Sequential()\n",
    "rep_training_model.add(Embedding(\n",
    "    output_dim=EMBEDDING_WIDTH, input_dim=MAX_WORDS,\n",
    "    mask_zero=True, input_length=None))\n",
    "rep_training_model.add(LSTM(128, return_sequences=True,\n",
    "                        dropout=0.2, recurrent_dropout=0.2))\n",
    "rep_training_model.add(LSTM(128, dropout=0.2,\n",
    "                        recurrent_dropout=0.2))\n",
    "rep_training_model.add(Dense(128, activation='relu'))\n",
    "rep_training_model.add(Dense(MAX_WORDS, activation='softmax'))\n",
    "rep_training_model.compile(loss='categorical_crossentropy',\n",
    "                       optimizer='adam')\n",
    "rep_training_model.summary()\n",
    "rep_history = rep_training_model.fit(X_rep, y_rep, validation_split=0.05,\n",
    "                             batch_size=BATCH_SIZE, \n",
    "                             epochs=EPOCHS, verbose=2, \n",
    "                             shuffle=True)"
   ]
  },
  {
   "cell_type": "code",
   "execution_count": 117,
   "id": "74ab76d0-66cd-4f1f-ac86-62d19354aee3",
   "metadata": {},
   "outputs": [
    {
     "name": "stdout",
     "output_type": "stream",
     "text": [
      "Model: \"sequential_19\"\n",
      "_________________________________________________________________\n",
      " Layer (type)                Output Shape              Param #   \n",
      "=================================================================\n",
      " embedding_19 (Embedding)    (None, None, 250)         6250000   \n",
      "                                                                 \n",
      " lstm_38 (LSTM)              (None, None, 128)         194048    \n",
      "                                                                 \n",
      " lstm_39 (LSTM)              (None, 128)               131584    \n",
      "                                                                 \n",
      " dense_38 (Dense)            (None, 128)               16512     \n",
      "                                                                 \n",
      " dense_39 (Dense)            (None, 25000)             3225000   \n",
      "                                                                 \n",
      "=================================================================\n",
      "Total params: 9,817,144\n",
      "Trainable params: 9,817,144\n",
      "Non-trainable params: 0\n",
      "_________________________________________________________________\n",
      "Epoch 1/50\n",
      "27/27 - 5s - loss: 8.7472 - val_loss: 6.5661 - 5s/epoch - 183ms/step\n",
      "Epoch 2/50\n",
      "27/27 - 2s - loss: 5.8029 - val_loss: 6.2638 - 2s/epoch - 65ms/step\n",
      "Epoch 3/50\n",
      "27/27 - 2s - loss: 5.5780 - val_loss: 6.1281 - 2s/epoch - 63ms/step\n",
      "Epoch 4/50\n",
      "27/27 - 2s - loss: 5.5383 - val_loss: 6.2032 - 2s/epoch - 63ms/step\n",
      "Epoch 5/50\n",
      "27/27 - 2s - loss: 5.5314 - val_loss: 6.2072 - 2s/epoch - 63ms/step\n",
      "Epoch 6/50\n",
      "27/27 - 2s - loss: 5.5233 - val_loss: 6.1966 - 2s/epoch - 63ms/step\n",
      "Epoch 7/50\n",
      "27/27 - 2s - loss: 5.5153 - val_loss: 6.2624 - 2s/epoch - 64ms/step\n",
      "Epoch 8/50\n",
      "27/27 - 2s - loss: 5.5142 - val_loss: 6.2375 - 2s/epoch - 64ms/step\n",
      "Epoch 9/50\n",
      "27/27 - 2s - loss: 5.5145 - val_loss: 6.2418 - 2s/epoch - 66ms/step\n",
      "Epoch 10/50\n",
      "27/27 - 2s - loss: 5.5121 - val_loss: 6.2205 - 2s/epoch - 67ms/step\n",
      "Epoch 11/50\n",
      "27/27 - 2s - loss: 5.5067 - val_loss: 6.2551 - 2s/epoch - 66ms/step\n",
      "Epoch 12/50\n",
      "27/27 - 2s - loss: 5.5043 - val_loss: 6.2595 - 2s/epoch - 65ms/step\n",
      "Epoch 13/50\n",
      "27/27 - 2s - loss: 5.5043 - val_loss: 6.2350 - 2s/epoch - 65ms/step\n",
      "Epoch 14/50\n",
      "27/27 - 2s - loss: 5.5037 - val_loss: 6.2656 - 2s/epoch - 65ms/step\n",
      "Epoch 15/50\n",
      "27/27 - 2s - loss: 5.4981 - val_loss: 6.2450 - 2s/epoch - 65ms/step\n",
      "Epoch 16/50\n",
      "27/27 - 2s - loss: 5.4873 - val_loss: 6.2396 - 2s/epoch - 66ms/step\n",
      "Epoch 17/50\n",
      "27/27 - 2s - loss: 5.4397 - val_loss: 6.1784 - 2s/epoch - 65ms/step\n",
      "Epoch 18/50\n",
      "27/27 - 2s - loss: 5.3420 - val_loss: 6.2225 - 2s/epoch - 65ms/step\n",
      "Epoch 19/50\n",
      "27/27 - 2s - loss: 5.2932 - val_loss: 6.2373 - 2s/epoch - 66ms/step\n",
      "Epoch 20/50\n",
      "27/27 - 2s - loss: 5.2408 - val_loss: 6.3455 - 2s/epoch - 66ms/step\n",
      "Epoch 21/50\n",
      "27/27 - 2s - loss: 5.1734 - val_loss: 6.3350 - 2s/epoch - 68ms/step\n",
      "Epoch 22/50\n",
      "27/27 - 2s - loss: 5.1050 - val_loss: 6.3951 - 2s/epoch - 66ms/step\n",
      "Epoch 23/50\n",
      "27/27 - 2s - loss: 5.0459 - val_loss: 6.3506 - 2s/epoch - 66ms/step\n",
      "Epoch 24/50\n",
      "27/27 - 2s - loss: 4.9967 - val_loss: 6.3788 - 2s/epoch - 66ms/step\n",
      "Epoch 25/50\n",
      "27/27 - 2s - loss: 4.9471 - val_loss: 6.4001 - 2s/epoch - 65ms/step\n",
      "Epoch 26/50\n",
      "27/27 - 2s - loss: 4.8852 - val_loss: 6.3578 - 2s/epoch - 65ms/step\n",
      "Epoch 27/50\n",
      "27/27 - 2s - loss: 4.8255 - val_loss: 6.4727 - 2s/epoch - 65ms/step\n",
      "Epoch 28/50\n",
      "27/27 - 2s - loss: 4.7457 - val_loss: 6.4306 - 2s/epoch - 66ms/step\n",
      "Epoch 29/50\n",
      "27/27 - 2s - loss: 4.6698 - val_loss: 6.4721 - 2s/epoch - 65ms/step\n",
      "Epoch 30/50\n",
      "27/27 - 2s - loss: 4.6074 - val_loss: 6.5559 - 2s/epoch - 65ms/step\n",
      "Epoch 31/50\n",
      "27/27 - 2s - loss: 4.5571 - val_loss: 6.5289 - 2s/epoch - 65ms/step\n",
      "Epoch 32/50\n",
      "27/27 - 2s - loss: 4.5081 - val_loss: 6.6088 - 2s/epoch - 65ms/step\n",
      "Epoch 33/50\n",
      "27/27 - 2s - loss: 4.4639 - val_loss: 6.6093 - 2s/epoch - 66ms/step\n",
      "Epoch 34/50\n",
      "27/27 - 2s - loss: 4.4160 - val_loss: 6.7695 - 2s/epoch - 65ms/step\n",
      "Epoch 35/50\n",
      "27/27 - 2s - loss: 4.3656 - val_loss: 6.6689 - 2s/epoch - 65ms/step\n",
      "Epoch 36/50\n",
      "27/27 - 2s - loss: 4.3189 - val_loss: 6.7001 - 2s/epoch - 66ms/step\n",
      "Epoch 37/50\n",
      "27/27 - 2s - loss: 4.2710 - val_loss: 6.7398 - 2s/epoch - 66ms/step\n",
      "Epoch 38/50\n",
      "27/27 - 2s - loss: 4.2275 - val_loss: 6.7873 - 2s/epoch - 66ms/step\n",
      "Epoch 39/50\n",
      "27/27 - 2s - loss: 4.1823 - val_loss: 6.7302 - 2s/epoch - 66ms/step\n",
      "Epoch 40/50\n",
      "27/27 - 2s - loss: 4.1441 - val_loss: 6.8259 - 2s/epoch - 66ms/step\n",
      "Epoch 41/50\n",
      "27/27 - 2s - loss: 4.0909 - val_loss: 6.8019 - 2s/epoch - 66ms/step\n",
      "Epoch 42/50\n",
      "27/27 - 2s - loss: 4.0457 - val_loss: 6.9097 - 2s/epoch - 66ms/step\n",
      "Epoch 43/50\n",
      "27/27 - 2s - loss: 3.9902 - val_loss: 6.9758 - 2s/epoch - 66ms/step\n",
      "Epoch 44/50\n",
      "27/27 - 2s - loss: 3.9341 - val_loss: 6.9843 - 2s/epoch - 66ms/step\n",
      "Epoch 45/50\n",
      "27/27 - 2s - loss: 3.8715 - val_loss: 6.9641 - 2s/epoch - 77ms/step\n",
      "Epoch 46/50\n",
      "27/27 - 4s - loss: 3.8128 - val_loss: 7.0797 - 4s/epoch - 135ms/step\n",
      "Epoch 47/50\n",
      "27/27 - 2s - loss: 3.7578 - val_loss: 7.0745 - 2s/epoch - 89ms/step\n",
      "Epoch 48/50\n",
      "27/27 - 2s - loss: 3.7103 - val_loss: 7.1743 - 2s/epoch - 64ms/step\n",
      "Epoch 49/50\n",
      "27/27 - 2s - loss: 3.6510 - val_loss: 7.2008 - 2s/epoch - 64ms/step\n",
      "Epoch 50/50\n",
      "27/27 - 2s - loss: 3.6098 - val_loss: 7.3379 - 2s/epoch - 63ms/step\n"
     ]
    }
   ],
   "source": [
    "# Lover LSTM\n",
    "\n",
    "lover_training_model = Sequential()\n",
    "lover_training_model.add(Embedding(\n",
    "    output_dim=EMBEDDING_WIDTH, input_dim=MAX_WORDS,\n",
    "    mask_zero=True, input_length=None))\n",
    "lover_training_model.add(LSTM(128, return_sequences=True,\n",
    "                        dropout=0.2, recurrent_dropout=0.2))\n",
    "lover_training_model.add(LSTM(128, dropout=0.2,\n",
    "                        recurrent_dropout=0.2))\n",
    "lover_training_model.add(Dense(128, activation='relu'))\n",
    "lover_training_model.add(Dense(MAX_WORDS, activation='softmax'))\n",
    "lover_training_model.compile(loss='categorical_crossentropy',\n",
    "                       optimizer='adam')\n",
    "lover_training_model.summary()\n",
    "lover_history = lover_training_model.fit(X_lover, y_lover, validation_split=0.05,\n",
    "                             batch_size=BATCH_SIZE, \n",
    "                             epochs=EPOCHS, verbose=2, \n",
    "                             shuffle=True)"
   ]
  },
  {
   "cell_type": "code",
   "execution_count": 86,
   "id": "79afb588-16ad-4bfa-bc6d-79361d12f1a3",
   "metadata": {},
   "outputs": [
    {
     "name": "stdout",
     "output_type": "stream",
     "text": [
      "Model: \"sequential_14\"\n",
      "_________________________________________________________________\n",
      " Layer (type)                Output Shape              Param #   \n",
      "=================================================================\n",
      " embedding_14 (Embedding)    (None, None, 250)         6250000   \n",
      "                                                                 \n",
      " lstm_28 (LSTM)              (None, None, 128)         194048    \n",
      "                                                                 \n",
      " lstm_29 (LSTM)              (None, 128)               131584    \n",
      "                                                                 \n",
      " dense_28 (Dense)            (None, 128)               16512     \n",
      "                                                                 \n",
      " dense_29 (Dense)            (None, 25000)             3225000   \n",
      "                                                                 \n",
      "=================================================================\n",
      "Total params: 9,817,144\n",
      "Trainable params: 9,817,144\n",
      "Non-trainable params: 0\n",
      "_________________________________________________________________\n",
      "Epoch 1/50\n",
      "44/44 - 7s - loss: 8.0517 - val_loss: 6.4223 - 7s/epoch - 154ms/step\n",
      "Epoch 2/50\n",
      "44/44 - 3s - loss: 5.9977 - val_loss: 6.2463 - 3s/epoch - 67ms/step\n",
      "Epoch 3/50\n",
      "44/44 - 3s - loss: 5.8823 - val_loss: 6.2306 - 3s/epoch - 67ms/step\n",
      "Epoch 4/50\n",
      "44/44 - 3s - loss: 5.8669 - val_loss: 6.2486 - 3s/epoch - 67ms/step\n",
      "Epoch 5/50\n",
      "44/44 - 3s - loss: 5.8575 - val_loss: 6.2286 - 3s/epoch - 66ms/step\n",
      "Epoch 6/50\n",
      "44/44 - 3s - loss: 5.8536 - val_loss: 6.2633 - 3s/epoch - 66ms/step\n",
      "Epoch 7/50\n",
      "44/44 - 3s - loss: 5.8405 - val_loss: 6.2479 - 3s/epoch - 66ms/step\n",
      "Epoch 8/50\n",
      "44/44 - 3s - loss: 5.7935 - val_loss: 6.1705 - 3s/epoch - 67ms/step\n",
      "Epoch 9/50\n",
      "44/44 - 3s - loss: 5.6645 - val_loss: 6.2845 - 3s/epoch - 66ms/step\n",
      "Epoch 10/50\n",
      "44/44 - 3s - loss: 5.6027 - val_loss: 6.2669 - 3s/epoch - 66ms/step\n",
      "Epoch 11/50\n",
      "44/44 - 3s - loss: 5.5464 - val_loss: 6.2467 - 3s/epoch - 67ms/step\n",
      "Epoch 12/50\n",
      "44/44 - 3s - loss: 5.4707 - val_loss: 6.2824 - 3s/epoch - 66ms/step\n",
      "Epoch 13/50\n",
      "44/44 - 3s - loss: 5.4004 - val_loss: 6.2767 - 3s/epoch - 66ms/step\n",
      "Epoch 14/50\n",
      "44/44 - 3s - loss: 5.3317 - val_loss: 6.3065 - 3s/epoch - 66ms/step\n",
      "Epoch 15/50\n",
      "44/44 - 3s - loss: 5.2611 - val_loss: 6.3713 - 3s/epoch - 67ms/step\n",
      "Epoch 16/50\n",
      "44/44 - 3s - loss: 5.1933 - val_loss: 6.3128 - 3s/epoch - 67ms/step\n",
      "Epoch 17/50\n",
      "44/44 - 3s - loss: 5.1113 - val_loss: 6.3561 - 3s/epoch - 65ms/step\n",
      "Epoch 18/50\n",
      "44/44 - 3s - loss: 5.0408 - val_loss: 6.3640 - 3s/epoch - 66ms/step\n",
      "Epoch 19/50\n",
      "44/44 - 3s - loss: 4.9828 - val_loss: 6.3638 - 3s/epoch - 66ms/step\n",
      "Epoch 20/50\n",
      "44/44 - 3s - loss: 4.9256 - val_loss: 6.4667 - 3s/epoch - 66ms/step\n",
      "Epoch 21/50\n",
      "44/44 - 5s - loss: 4.8786 - val_loss: 6.4422 - 5s/epoch - 104ms/step\n",
      "Epoch 22/50\n",
      "44/44 - 4s - loss: 4.8193 - val_loss: 6.4970 - 4s/epoch - 89ms/step\n",
      "Epoch 23/50\n",
      "44/44 - 3s - loss: 4.7604 - val_loss: 6.5392 - 3s/epoch - 64ms/step\n",
      "Epoch 24/50\n",
      "44/44 - 3s - loss: 4.7067 - val_loss: 6.5757 - 3s/epoch - 65ms/step\n",
      "Epoch 25/50\n",
      "44/44 - 3s - loss: 4.6504 - val_loss: 6.6653 - 3s/epoch - 66ms/step\n",
      "Epoch 26/50\n",
      "44/44 - 3s - loss: 4.5901 - val_loss: 6.7043 - 3s/epoch - 65ms/step\n",
      "Epoch 27/50\n",
      "44/44 - 3s - loss: 4.5335 - val_loss: 6.7642 - 3s/epoch - 63ms/step\n",
      "Epoch 28/50\n",
      "44/44 - 3s - loss: 4.4845 - val_loss: 6.7854 - 3s/epoch - 64ms/step\n",
      "Epoch 29/50\n",
      "44/44 - 3s - loss: 4.4297 - val_loss: 6.8789 - 3s/epoch - 64ms/step\n",
      "Epoch 30/50\n",
      "44/44 - 3s - loss: 4.3821 - val_loss: 6.9713 - 3s/epoch - 65ms/step\n",
      "Epoch 31/50\n",
      "44/44 - 3s - loss: 4.3358 - val_loss: 7.0020 - 3s/epoch - 64ms/step\n",
      "Epoch 32/50\n",
      "44/44 - 3s - loss: 4.2918 - val_loss: 7.1056 - 3s/epoch - 64ms/step\n",
      "Epoch 33/50\n",
      "44/44 - 3s - loss: 4.2451 - val_loss: 7.1708 - 3s/epoch - 65ms/step\n",
      "Epoch 34/50\n",
      "44/44 - 3s - loss: 4.2036 - val_loss: 7.2282 - 3s/epoch - 64ms/step\n",
      "Epoch 35/50\n",
      "44/44 - 3s - loss: 4.1658 - val_loss: 7.2619 - 3s/epoch - 64ms/step\n",
      "Epoch 36/50\n",
      "44/44 - 3s - loss: 4.1285 - val_loss: 7.3476 - 3s/epoch - 65ms/step\n",
      "Epoch 37/50\n",
      "44/44 - 3s - loss: 4.0827 - val_loss: 7.4662 - 3s/epoch - 65ms/step\n",
      "Epoch 38/50\n",
      "44/44 - 3s - loss: 4.0407 - val_loss: 7.4772 - 3s/epoch - 66ms/step\n",
      "Epoch 39/50\n",
      "44/44 - 3s - loss: 3.9973 - val_loss: 7.5525 - 3s/epoch - 68ms/step\n",
      "Epoch 40/50\n",
      "44/44 - 3s - loss: 3.9527 - val_loss: 7.6397 - 3s/epoch - 67ms/step\n",
      "Epoch 41/50\n",
      "44/44 - 3s - loss: 3.9062 - val_loss: 7.6461 - 3s/epoch - 67ms/step\n",
      "Epoch 42/50\n",
      "44/44 - 3s - loss: 3.8639 - val_loss: 7.7173 - 3s/epoch - 65ms/step\n",
      "Epoch 43/50\n",
      "44/44 - 3s - loss: 3.8241 - val_loss: 7.7646 - 3s/epoch - 66ms/step\n",
      "Epoch 44/50\n",
      "44/44 - 3s - loss: 3.7771 - val_loss: 7.8309 - 3s/epoch - 65ms/step\n",
      "Epoch 45/50\n",
      "44/44 - 3s - loss: 3.7298 - val_loss: 7.9248 - 3s/epoch - 66ms/step\n",
      "Epoch 46/50\n",
      "44/44 - 3s - loss: 3.7079 - val_loss: 7.9978 - 3s/epoch - 65ms/step\n",
      "Epoch 47/50\n",
      "44/44 - 3s - loss: 3.6584 - val_loss: 8.0775 - 3s/epoch - 66ms/step\n",
      "Epoch 48/50\n",
      "44/44 - 3s - loss: 3.6146 - val_loss: 8.1264 - 3s/epoch - 65ms/step\n",
      "Epoch 49/50\n",
      "44/44 - 3s - loss: 3.5758 - val_loss: 8.0802 - 3s/epoch - 65ms/step\n",
      "Epoch 50/50\n",
      "44/44 - 3s - loss: 3.5366 - val_loss: 8.1893 - 3s/epoch - 66ms/step\n"
     ]
    }
   ],
   "source": [
    "# Folklore / Evermore LSTM\n",
    "\n",
    "fe_training_model = Sequential()\n",
    "fe_training_model.add(Embedding(\n",
    "    output_dim=EMBEDDING_WIDTH, input_dim=MAX_WORDS,\n",
    "    mask_zero=True, input_length=None))\n",
    "fe_training_model.add(LSTM(128, return_sequences=True,\n",
    "                        dropout=0.2, recurrent_dropout=0.2))\n",
    "fe_training_model.add(LSTM(128, dropout=0.2,\n",
    "                        recurrent_dropout=0.2))\n",
    "fe_training_model.add(Dense(128, activation='relu'))\n",
    "fe_training_model.add(Dense(MAX_WORDS, activation='softmax'))\n",
    "fe_training_model.compile(loss='categorical_crossentropy',\n",
    "                       optimizer='adam')\n",
    "fe_training_model.summary()\n",
    "fe_history = fe_training_model.fit(X_fe, y_fe, validation_split=0.05,\n",
    "                             batch_size=BATCH_SIZE, \n",
    "                             epochs=EPOCHS, verbose=2, \n",
    "                             shuffle=True)"
   ]
  },
  {
   "cell_type": "markdown",
   "id": "d836e3f6-cf53-4754-855b-f7dacad4edb2",
   "metadata": {},
   "source": [
    "## Creating Inference Models"
   ]
  },
  {
   "cell_type": "code",
   "execution_count": 272,
   "id": "91c7f890-7a21-48f8-883e-fcd6bfeb4d46",
   "metadata": {},
   "outputs": [],
   "source": [
    "# Reputation\n",
    "\n",
    "rep_inference_model = Sequential()\n",
    "rep_inference_model.add(Embedding(\n",
    "    output_dim=EMBEDDING_WIDTH, input_dim=MAX_WORDS,\n",
    "    mask_zero=True, batch_input_shape=(1, 1)))\n",
    "rep_inference_model.add(LSTM(128, return_sequences=True,\n",
    "                         dropout=0.2, recurrent_dropout=0.2,\n",
    "                         stateful=True))\n",
    "rep_inference_model.add(LSTM(128, dropout=0.2,\n",
    "                         recurrent_dropout=0.2, stateful=True))\n",
    "rep_inference_model.add(Dense(128, activation='relu'))\n",
    "rep_inference_model.add(Dense(MAX_WORDS, activation='softmax'))\n",
    "rep_weights = rep_training_model.get_weights()\n",
    "rep_inference_model.set_weights(rep_weights)"
   ]
  },
  {
   "cell_type": "code",
   "execution_count": 119,
   "id": "08c99de3-01b8-4fdb-b533-c8064b48e789",
   "metadata": {},
   "outputs": [],
   "source": [
    "# Lover\n",
    "\n",
    "lover_inference_model = Sequential()\n",
    "lover_inference_model.add(Embedding(\n",
    "    output_dim=EMBEDDING_WIDTH, input_dim=MAX_WORDS,\n",
    "    mask_zero=True, batch_input_shape=(1, 1)))\n",
    "lover_inference_model.add(LSTM(128, return_sequences=True,\n",
    "                         dropout=0.2, recurrent_dropout=0.2,\n",
    "                         stateful=True))\n",
    "lover_inference_model.add(LSTM(128, dropout=0.2,\n",
    "                         recurrent_dropout=0.2, stateful=True))\n",
    "lover_inference_model.add(Dense(128, activation='relu'))\n",
    "lover_inference_model.add(Dense(MAX_WORDS, activation='softmax'))\n",
    "lover_weights = lover_training_model.get_weights()\n",
    "lover_inference_model.set_weights(lover_weights)"
   ]
  },
  {
   "cell_type": "code",
   "execution_count": 89,
   "id": "880f5a7d-c575-4cc3-a75e-177548dcc07d",
   "metadata": {},
   "outputs": [],
   "source": [
    "# Folklore / Evermore \n",
    "\n",
    "fe_inference_model = Sequential()\n",
    "fe_inference_model.add(Embedding(\n",
    "    output_dim=EMBEDDING_WIDTH, input_dim=MAX_WORDS,\n",
    "    mask_zero=True, batch_input_shape=(1, 1)))\n",
    "fe_inference_model.add(LSTM(128, return_sequences=True,\n",
    "                         dropout=0.2, recurrent_dropout=0.2,\n",
    "                         stateful=True))\n",
    "fe_inference_model.add(LSTM(128, dropout=0.2,\n",
    "                         recurrent_dropout=0.2, stateful=True))\n",
    "fe_inference_model.add(Dense(128, activation='relu'))\n",
    "fe_inference_model.add(Dense(MAX_WORDS, activation='softmax'))\n",
    "fe_weights = fe_training_model.get_weights()\n",
    "fe_inference_model.set_weights(fe_weights)"
   ]
  },
  {
   "cell_type": "markdown",
   "id": "31b33cd5-bfc2-4434-8f5d-bd46c2c42a78",
   "metadata": {},
   "source": [
    "# Generating Lyric Predictions"
   ]
  },
  {
   "cell_type": "markdown",
   "id": "dfe3cfc2-7a74-45da-902c-091bc45ad248",
   "metadata": {},
   "source": [
    "# Predicting words in popular TS songs\n",
    "\n",
    "### 1. can't you see that I'm the one who..."
   ]
  },
  {
   "cell_type": "code",
   "execution_count": 273,
   "id": "4c5163f0-c93e-4880-9731-b5b11d3b96ca",
   "metadata": {},
   "outputs": [
    {
     "name": "stdout",
     "output_type": "stream",
     "text": [
      "can not you see that i am the one who could long see \n"
     ]
    }
   ],
   "source": [
    "# Reputation Prediction\n",
    "first_words = ['can', 'not', 'you', 'see', 'that', 'i', 'am', 'the', 'one', 'who']\n",
    "first_words_indexed = tokenizer.texts_to_sequences(\n",
    "    first_words)\n",
    "rep_inference_model.reset_states()\n",
    "predicted_string = ''\n",
    "\n",
    "# Feed initial words to the model.\n",
    "for i, word_index in enumerate(first_words_indexed):\n",
    "    x = np.zeros((1, 1), dtype=np.int64)\n",
    "    x[0][0] = word_index[0]\n",
    "    predicted_string += first_words[i]\n",
    "    predicted_string += ' '\n",
    "    y_predict = rep_inference_model.predict(x, verbose=0)[0]\n",
    "\n",
    "# Predict PREDICT_LENGTH words.\n",
    "for i in range(PREDICT_LENGTH):\n",
    "    new_word_index = np.argmax(y_predict)\n",
    "    word = tokenizer.sequences_to_texts(\n",
    "        [[new_word_index]])\n",
    "    x[0][0] = new_word_index\n",
    "    predicted_string += word[0]\n",
    "    predicted_string += ' '\n",
    "    y_predict = rep_inference_model.predict(x, verbose=0)[0]\n",
    "print(predicted_string)"
   ]
  },
  {
   "cell_type": "code",
   "execution_count": 121,
   "id": "36dda046-32d3-401c-80d8-bd0b852f17e3",
   "metadata": {},
   "outputs": [
    {
     "name": "stdout",
     "output_type": "stream",
     "text": [
      "can not you see that i am the one who now i was \n"
     ]
    }
   ],
   "source": [
    "# Lover Prediction\n",
    "first_words = ['can', 'not', 'you', 'see', 'that', 'i', 'am', 'the', 'one', 'who']\n",
    "first_words_indexed = tokenizer.texts_to_sequences(\n",
    "    first_words)\n",
    "lover_inference_model.reset_states()\n",
    "predicted_string = ''\n",
    "\n",
    "# Feed initial words to the model.\n",
    "for i, word_index in enumerate(first_words_indexed):\n",
    "    x = np.zeros((1, 1), dtype=np.int64)\n",
    "    x[0][0] = word_index[0]\n",
    "    predicted_string += first_words[i]\n",
    "    predicted_string += ' '\n",
    "    y_predict = lover_inference_model.predict(x, verbose=0)[0]\n",
    "\n",
    "# Predict PREDICT_LENGTH words.\n",
    "for i in range(PREDICT_LENGTH):\n",
    "    new_word_index = np.argmax(y_predict)\n",
    "    word = tokenizer.sequences_to_texts(\n",
    "        [[new_word_index]])\n",
    "    x[0][0] = new_word_index\n",
    "    predicted_string += word[0]\n",
    "    predicted_string += ' '\n",
    "    y_predict = lover_inference_model.predict(x, verbose=0)[0]\n",
    "print(predicted_string)"
   ]
  },
  {
   "cell_type": "code",
   "execution_count": 115,
   "id": "8c9ddfcd-216f-44fa-9502-318748f99ca7",
   "metadata": {},
   "outputs": [
    {
     "name": "stdout",
     "output_type": "stream",
     "text": [
      "can not you see that i am the one who was a warning \n"
     ]
    }
   ],
   "source": [
    "# Folklore / Evermore Prediction\n",
    "first_words = ['can', 'not', 'you', 'see', 'that', 'i', 'am', 'the', 'one', 'who']\n",
    "first_words_indexed = tokenizer.texts_to_sequences(\n",
    "    first_words)\n",
    "fe_inference_model.reset_states()\n",
    "predicted_string = ''\n",
    "\n",
    "# Feed initial words to the model.\n",
    "for i, word_index in enumerate(first_words_indexed):\n",
    "    x = np.zeros((1, 1), dtype=np.int64)\n",
    "    x[0][0] = word_index[0]\n",
    "    predicted_string += first_words[i]\n",
    "    predicted_string += ' '\n",
    "    y_predict = fe_inference_model.predict(x, verbose=0)[0]\n",
    "\n",
    "# Predict PREDICT_LENGTH words.\n",
    "for i in range(PREDICT_LENGTH):\n",
    "    new_word_index = np.argmax(y_predict)\n",
    "    word = tokenizer.sequences_to_texts(\n",
    "        [[new_word_index]])\n",
    "    x[0][0] = new_word_index\n",
    "    predicted_string += word[0]\n",
    "    predicted_string += ' '\n",
    "    y_predict = fe_inference_model.predict(x, verbose=0)[0]\n",
    "print(predicted_string)"
   ]
  },
  {
   "cell_type": "markdown",
   "id": "56167f7a-c8a1-4691-a8c6-82055b696d57",
   "metadata": {},
   "source": [
    "### 2. He knelt to the ground and pulled out a..."
   ]
  },
  {
   "cell_type": "code",
   "execution_count": 213,
   "id": "47e6fccc-9837-403b-ae22-a81d535f3f35",
   "metadata": {},
   "outputs": [
    {
     "name": "stdout",
     "output_type": "stream",
     "text": [
      "he knelt to the ground and pulled out a you a me \n"
     ]
    }
   ],
   "source": [
    "# Reputation Prediction\n",
    "first_words = ['he', 'knelt', 'to', 'the', 'ground', 'and', 'pulled', 'out', 'a']\n",
    "first_words_indexed = tokenizer.texts_to_sequences(\n",
    "    first_words)\n",
    "#rep_inference_model.reset_states()\n",
    "predicted_string = ''\n",
    "\n",
    "# Feed initial words to the model.\n",
    "for i, word_index in enumerate(first_words_indexed):\n",
    "    x = np.zeros((1, 1), dtype=np.int64)\n",
    "    x[0][0] = word_index[0]\n",
    "    predicted_string += first_words[i]\n",
    "    predicted_string += ' '\n",
    "    y_predict = rep_inference_model.predict(x, verbose=0)[0]\n",
    "\n",
    "# Predict PREDICT_LENGTH words.\n",
    "for i in range(PREDICT_LENGTH):\n",
    "    new_word_index = np.argmax(y_predict)\n",
    "    word = tokenizer.sequences_to_texts(\n",
    "        [[new_word_index]])\n",
    "    x[0][0] = new_word_index\n",
    "    predicted_string += word[0]\n",
    "    predicted_string += ' '\n",
    "    y_predict = rep_inference_model.predict(x, verbose=0)[0]\n",
    "print(predicted_string)"
   ]
  },
  {
   "cell_type": "code",
   "execution_count": 124,
   "id": "ab853901-8325-422b-8c3f-89301fc0e9b4",
   "metadata": {},
   "outputs": [
    {
     "name": "stdout",
     "output_type": "stream",
     "text": [
      "he knelt to the ground and pulled out a for the we \n"
     ]
    }
   ],
   "source": [
    "# Lover Prediction\n",
    "first_words = ['he', 'knelt', 'to', 'the', 'ground', 'and', 'pulled', 'out', 'a' ]\n",
    "first_words_indexed = tokenizer.texts_to_sequences(\n",
    "    first_words)\n",
    "lover_inference_model.reset_states()\n",
    "predicted_string = ''\n",
    "\n",
    "# Feed initial words to the model.\n",
    "for i, word_index in enumerate(first_words_indexed):\n",
    "    x = np.zeros((1, 1), dtype=np.int64)\n",
    "    x[0][0] = word_index[0]\n",
    "    predicted_string += first_words[i]\n",
    "    predicted_string += ' '\n",
    "    y_predict = lover_inference_model.predict(x, verbose=0)[0]\n",
    "\n",
    "# Predict PREDICT_LENGTH words.\n",
    "for i in range(PREDICT_LENGTH):\n",
    "    new_word_index = np.argmax(y_predict)\n",
    "    word = tokenizer.sequences_to_texts(\n",
    "        [[new_word_index]])\n",
    "    x[0][0] = new_word_index\n",
    "    predicted_string += word[0]\n",
    "    predicted_string += ' '\n",
    "    y_predict = lover_inference_model.predict(x, verbose=0)[0]\n",
    "print(predicted_string)"
   ]
  },
  {
   "cell_type": "code",
   "execution_count": 123,
   "id": "1e3f5c00-14f3-4409-b593-377c53081f8f",
   "metadata": {},
   "outputs": [
    {
     "name": "stdout",
     "output_type": "stream",
     "text": [
      "he knelt to the ground and pulled out a hope of you \n"
     ]
    }
   ],
   "source": [
    "# Folklore / Evermore Prediction\n",
    "first_words = ['he', 'knelt', 'to', 'the', 'ground', 'and', 'pulled', 'out', 'a' ]\n",
    "first_words_indexed = tokenizer.texts_to_sequences(\n",
    "    first_words)\n",
    "fe_inference_model.reset_states()\n",
    "predicted_string = ''\n",
    "\n",
    "# Feed initial words to the model.\n",
    "for i, word_index in enumerate(first_words_indexed):\n",
    "    x = np.zeros((1, 1), dtype=np.int64)\n",
    "    x[0][0] = word_index[0]\n",
    "    predicted_string += first_words[i]\n",
    "    predicted_string += ' '\n",
    "    y_predict = fe_inference_model.predict(x, verbose=0)[0]\n",
    "\n",
    "# Predict PREDICT_LENGTH words.\n",
    "for i in range(PREDICT_LENGTH):\n",
    "    new_word_index = np.argmax(y_predict)\n",
    "    word = tokenizer.sequences_to_texts(\n",
    "        [[new_word_index]])\n",
    "    x[0][0] = new_word_index\n",
    "    predicted_string += word[0]\n",
    "    predicted_string += ' '\n",
    "    y_predict = fe_inference_model.predict(x, verbose=0)[0]\n",
    "print(predicted_string)"
   ]
  },
  {
   "cell_type": "markdown",
   "id": "087d6b5a-e4c6-4b5e-a2d5-0c55385f8d6a",
   "metadata": {},
   "source": [
    "### 3. Hey, I don't know about you, but I'm feeling...\n",
    "\n",
    "'i', 'do', 'not', 'know', 'about', 'you', 'but', 'i', 'am', 'feeling'"
   ]
  },
  {
   "cell_type": "code",
   "execution_count": 214,
   "id": "32c827ab-7700-42c5-a3cf-12d34ab86ce0",
   "metadata": {},
   "outputs": [
    {
     "name": "stdout",
     "output_type": "stream",
     "text": [
      "i do not know about you but i am feeling back i on \n"
     ]
    }
   ],
   "source": [
    "# Reputation Prediction\n",
    "first_words = ['i', 'do', 'not', 'know', 'about', 'you', 'but', 'i', 'am', 'feeling']\n",
    "first_words_indexed = tokenizer.texts_to_sequences(\n",
    "    first_words)\n",
    "rep_inference_model.reset_states()\n",
    "predicted_string = ''\n",
    "\n",
    "# Feed initial words to the model.\n",
    "for i, word_index in enumerate(first_words_indexed):\n",
    "    x = np.zeros((1, 1), dtype=np.int64)\n",
    "    x[0][0] = word_index[0]\n",
    "    predicted_string += first_words[i]\n",
    "    predicted_string += ' '\n",
    "    y_predict = rep_inference_model.predict(x, verbose=0)[0]\n",
    "\n",
    "# Predict PREDICT_LENGTH words.\n",
    "for i in range(PREDICT_LENGTH):\n",
    "    new_word_index = np.argmax(y_predict)\n",
    "    word = tokenizer.sequences_to_texts(\n",
    "        [[new_word_index]])\n",
    "    x[0][0] = new_word_index\n",
    "    predicted_string += word[0]\n",
    "    predicted_string += ' '\n",
    "    y_predict = rep_inference_model.predict(x, verbose=0)[0]\n",
    "print(predicted_string)"
   ]
  },
  {
   "cell_type": "code",
   "execution_count": 139,
   "id": "0b99c7ca-79d1-41ab-b6db-d98e3327ef31",
   "metadata": {},
   "outputs": [
    {
     "name": "stdout",
     "output_type": "stream",
     "text": [
      "i do not know about you but i am feeling the we i \n"
     ]
    }
   ],
   "source": [
    "# Lover Prediction\n",
    "first_words = ['i', 'do', 'not', 'know', 'about', 'you', 'but', 'i', 'am', 'feeling']\n",
    "first_words_indexed = tokenizer.texts_to_sequences(\n",
    "    first_words)\n",
    "lover_inference_model.reset_states()\n",
    "predicted_string = ''\n",
    "\n",
    "# Feed initial words to the model.\n",
    "for i, word_index in enumerate(first_words_indexed):\n",
    "    x = np.zeros((1, 1), dtype=np.int64)\n",
    "    x[0][0] = word_index[0]\n",
    "    predicted_string += first_words[i]\n",
    "    predicted_string += ' '\n",
    "    y_predict = lover_inference_model.predict(x, verbose=0)[0]\n",
    "\n",
    "# Predict PREDICT_LENGTH words.\n",
    "for i in range(PREDICT_LENGTH):\n",
    "    new_word_index = np.argmax(y_predict)\n",
    "    word = tokenizer.sequences_to_texts(\n",
    "        [[new_word_index]])\n",
    "    x[0][0] = new_word_index\n",
    "    predicted_string += word[0]\n",
    "    predicted_string += ' '\n",
    "    y_predict = lover_inference_model.predict(x, verbose=0)[0]\n",
    "print(predicted_string)"
   ]
  },
  {
   "cell_type": "code",
   "execution_count": 140,
   "id": "86c02b24-1602-494b-b4e6-fc44e0c06a6b",
   "metadata": {},
   "outputs": [
    {
     "name": "stdout",
     "output_type": "stream",
     "text": [
      "i do not know about you but i am feeling a marvelous time \n"
     ]
    }
   ],
   "source": [
    "# Folklore / Evermore Prediction\n",
    "first_words = ['i', 'do', 'not', 'know', 'about', 'you', 'but', 'i', 'am', 'feeling']\n",
    "first_words_indexed = tokenizer.texts_to_sequences(\n",
    "    first_words)\n",
    "fe_inference_model.reset_states()\n",
    "predicted_string = ''\n",
    "\n",
    "# Feed initial words to the model.\n",
    "for i, word_index in enumerate(first_words_indexed):\n",
    "    x = np.zeros((1, 1), dtype=np.int64)\n",
    "    x[0][0] = word_index[0]\n",
    "    predicted_string += first_words[i]\n",
    "    predicted_string += ' '\n",
    "    y_predict = fe_inference_model.predict(x, verbose=0)[0]\n",
    "\n",
    "# Predict PREDICT_LENGTH words.\n",
    "for i in range(PREDICT_LENGTH):\n",
    "    new_word_index = np.argmax(y_predict)\n",
    "    word = tokenizer.sequences_to_texts(\n",
    "        [[new_word_index]])\n",
    "    x[0][0] = new_word_index\n",
    "    predicted_string += word[0]\n",
    "    predicted_string += ' '\n",
    "    y_predict = fe_inference_model.predict(x, verbose=0)[0]\n",
    "print(predicted_string)"
   ]
  },
  {
   "cell_type": "markdown",
   "id": "7e2a7168-ab2d-4d5f-8da5-a08d12458c6e",
   "metadata": {},
   "source": [
    "# Embedding"
   ]
  },
  {
   "cell_type": "code",
   "execution_count": 192,
   "id": "21ba712c-7664-46e8-8b0f-9ea2fc088bc9",
   "metadata": {},
   "outputs": [
    {
     "name": "stdout",
     "output_type": "stream",
     "text": [
      "words close to: she\n",
      "she:  0.0\n",
      "was:  0.855893\n",
      "life:  0.87616634\n",
      "where:  0.890507\n",
      "picture:  0.8985473\n",
      "\n",
      "words close to: he\n",
      "he:  0.0\n",
      "are:  0.91057205\n",
      "what:  0.92194414\n",
      "catching:  0.96362746\n",
      "hey:  1.0016079\n",
      "\n",
      "words close to: they\n",
      "they:  0.0\n",
      "crestfallen:  0.9222686\n",
      "soon:  0.9664934\n",
      "shame:  0.99119633\n",
      "parents:  0.99196523\n",
      "\n",
      "words close to: said\n",
      "said:  0.0\n",
      "motion:  0.958645\n",
      "that:  0.9704508\n",
      "of:  0.97182894\n",
      "would:  0.97246593\n",
      "\n",
      "words close to: good\n",
      "good:  0.0\n",
      "tires:  1.1217633\n",
      "other:  1.1723746\n",
      "line:  1.1769317\n",
      "hair:  1.1852186\n",
      "\n",
      "words close to: bad\n",
      "bad:  0.0\n",
      "left:  1.1144958\n",
      "woman:  1.1511248\n",
      "wanting:  1.2315485\n",
      "survived:  1.2321348\n",
      "\n"
     ]
    }
   ],
   "source": [
    "# Reputation\n",
    "\n",
    "embeddings = rep_training_model.layers[0].get_weights()[0]\n",
    "lookup_words = ['she', 'he', 'they', 'said', 'good',\n",
    "                'bad']\n",
    "for lookup_word in lookup_words:\n",
    "    lookup_word_indexed = tokenizer.texts_to_sequences(\n",
    "        [lookup_word])\n",
    "    print('words close to:', lookup_word)\n",
    "    lookup_embedding = embeddings[lookup_word_indexed[0]]\n",
    "    word_indices = {}\n",
    "    # Calculate distances.\n",
    "    for i, embedding in enumerate(embeddings):\n",
    "        distance = np.linalg.norm(\n",
    "            embedding - lookup_embedding)\n",
    "        word_indices[distance] = i\n",
    "    # Print sorted by distance.\n",
    "    for distance in sorted(word_indices.keys())[:5]:\n",
    "        word_index = word_indices[distance]\n",
    "        word = tokenizer.sequences_to_texts([[word_index]])[0]\n",
    "        print(word + ': ', distance)\n",
    "    print('')"
   ]
  },
  {
   "cell_type": "code",
   "execution_count": 193,
   "id": "65911358-7af2-4839-9978-1d0562c9970a",
   "metadata": {},
   "outputs": [
    {
     "name": "stdout",
     "output_type": "stream",
     "text": [
      "words close to: she\n",
      "she:  0.0\n",
      "would:  0.9700348\n",
      "missing:  0.9780509\n",
      "love:  0.98915833\n",
      "sun:  1.0052686\n",
      "\n",
      "words close to: he\n",
      "he:  0.0\n",
      "open:  0.84462404\n",
      "place:  0.84885\n",
      "it:  0.9087664\n",
      "remember:  0.91029346\n",
      "\n",
      "words close to: they\n",
      "they:  0.0\n",
      "UNK:  0.6651247\n",
      "UNK:  0.66662353\n",
      "UNK:  0.6704282\n",
      "UNK:  0.6707746\n",
      "\n",
      "words close to: said\n",
      "said:  0.0\n",
      "ricochet:  1.0251827\n",
      "haunt:  1.0650922\n",
      "today:  1.0739172\n",
      "count:  1.0968285\n",
      "\n",
      "words close to: good\n",
      "good:  0.0\n",
      "UNK:  0.8601058\n",
      "magazines:  0.86425924\n",
      "dancing:  0.8668437\n",
      "live:  0.86806494\n",
      "\n",
      "words close to: bad\n",
      "bad:  0.0\n",
      "shattered:  0.8851263\n",
      "flying:  0.8986705\n",
      "well:  0.915391\n",
      "gave:  0.91678286\n",
      "\n"
     ]
    }
   ],
   "source": [
    "# Lover\n",
    "\n",
    "embeddings = lover_training_model.layers[0].get_weights()[0]\n",
    "lookup_words = ['she', 'he', 'they', 'said', 'good',\n",
    "                'bad']\n",
    "for lookup_word in lookup_words:\n",
    "    lookup_word_indexed = tokenizer.texts_to_sequences(\n",
    "        [lookup_word])\n",
    "    print('words close to:', lookup_word)\n",
    "    lookup_embedding = embeddings[lookup_word_indexed[0]]\n",
    "    word_indices = {}\n",
    "    # Calculate distances.\n",
    "    for i, embedding in enumerate(embeddings):\n",
    "        distance = np.linalg.norm(\n",
    "            embedding - lookup_embedding)\n",
    "        word_indices[distance] = i\n",
    "    # Print sorted by distance.\n",
    "    for distance in sorted(word_indices.keys())[:5]:\n",
    "        word_index = word_indices[distance]\n",
    "        word = tokenizer.sequences_to_texts([[word_index]])[0]\n",
    "        print(word + ': ', distance)\n",
    "    print('')"
   ]
  },
  {
   "cell_type": "code",
   "execution_count": 194,
   "id": "50aa4c9b-8c0b-4e6e-9985-91c605c68e0b",
   "metadata": {},
   "outputs": [
    {
     "name": "stdout",
     "output_type": "stream",
     "text": [
      "words close to: she\n",
      "she:  0.0\n",
      "would:  0.9133205\n",
      "season:  0.9351908\n",
      "not:  0.96432465\n",
      "you:  0.96438104\n",
      "\n",
      "words close to: he\n",
      "he:  0.0\n",
      "we:  1.025416\n",
      "telling:  1.1822981\n",
      "lookout:  1.2533143\n",
      "dorm:  1.2572281\n",
      "\n",
      "words close to: they\n",
      "they:  0.0\n",
      "UNK:  0.8228349\n",
      "UNK:  0.8456412\n",
      "UNK:  0.84730625\n",
      "UNK:  0.8483782\n",
      "\n",
      "words close to: said\n",
      "said:  0.0\n",
      "want:  0.9477357\n",
      "brother:  0.95421135\n",
      "times:  1.0027077\n",
      "that:  1.0097163\n",
      "\n",
      "words close to: good\n",
      "good:  0.0\n",
      "UNK:  0.9334529\n",
      "frozen:  0.93551725\n",
      "UNK:  0.935686\n",
      "UNK:  0.9366965\n",
      "\n",
      "words close to: bad\n",
      "bad:  0.0\n",
      "last:  1.0239104\n",
      "homeland:  1.0587261\n",
      "problem:  1.063437\n",
      "sipped:  1.0919087\n",
      "\n"
     ]
    }
   ],
   "source": [
    "# Folklore/Evermore\n",
    "\n",
    "embeddings = fe_training_model.layers[0].get_weights()[0]\n",
    "lookup_words = ['she', 'he', 'they', 'said', 'good',\n",
    "                'bad']\n",
    "for lookup_word in lookup_words:\n",
    "    lookup_word_indexed = tokenizer.texts_to_sequences(\n",
    "        [lookup_word])\n",
    "    print('words close to:', lookup_word)\n",
    "    lookup_embedding = embeddings[lookup_word_indexed[0]]\n",
    "    word_indices = {}\n",
    "    # Calculate distances.\n",
    "    for i, embedding in enumerate(embeddings):\n",
    "        distance = np.linalg.norm(\n",
    "            embedding - lookup_embedding)\n",
    "        word_indices[distance] = i\n",
    "    # Print sorted by distance.\n",
    "    for distance in sorted(word_indices.keys())[:5]:\n",
    "        word_index = word_indices[distance]\n",
    "        word = tokenizer.sequences_to_texts([[word_index]])[0]\n",
    "        print(word + ': ', distance)\n",
    "    print('')"
   ]
  }
 ],
 "metadata": {
  "kernelspec": {
   "display_name": "Tensorflow-2.7.0",
   "language": "python",
   "name": "tensorflow-2.7.0"
  },
  "language_info": {
   "codemirror_mode": {
    "name": "ipython",
    "version": 3
   },
   "file_extension": ".py",
   "mimetype": "text/x-python",
   "name": "python",
   "nbconvert_exporter": "python",
   "pygments_lexer": "ipython3",
   "version": "3.9.12"
  }
 },
 "nbformat": 4,
 "nbformat_minor": 5
}
